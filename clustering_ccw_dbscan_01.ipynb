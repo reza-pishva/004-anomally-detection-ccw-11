{
  "cells": [
    {
      "cell_type": "markdown",
      "metadata": {
        "colab_type": "text",
        "id": "view-in-github"
      },
      "source": [
        "<a href=\"https://colab.research.google.com/github/reza-pishva/PM/blob/main/clustering_ccw_01.ipynb\" target=\"_parent\"><img src=\"https://colab.research.google.com/assets/colab-badge.svg\" alt=\"Open In Colab\"/></a>"
      ]
    },
    {
      "cell_type": "code",
      "execution_count": 37,
      "metadata": {
        "id": "9Fo6_G3J-fR8"
      },
      "outputs": [],
      "source": [
        "import pandas as pd\n",
        "import numpy as np\n",
        "from sklearn.preprocessing import StandardScaler\n",
        "from sklearn.cluster import DBSCAN\n",
        "from sklearn.neighbors import NearestNeighbors\n",
        "from sklearn.decomposition import PCA\n",
        "import matplotlib.pyplot as plt\n",
        "import matplotlib.cm as cm\n",
        "from sklearn.metrics import silhouette_score, silhouette_samples\n",
        "import warnings\n",
        "import joblib\n",
        "warnings.filterwarnings(\"ignore\")"
      ]
    },
    {
      "cell_type": "code",
      "execution_count": 38,
      "metadata": {
        "id": "CP1eYzvK-fR_"
      },
      "outputs": [],
      "source": [
        "df1 = pd.read_csv('ccw-g11.csv')"
      ]
    },
    {
      "cell_type": "code",
      "execution_count": 39,
      "metadata": {
        "colab": {
          "base_uri": "https://localhost:8080/",
          "height": 206
        },
        "id": "Gd6zRFsv-fR_",
        "outputId": "cea9e021-85d8-41be-c4db-8d50144d7532"
      },
      "outputs": [
        {
          "data": {
            "text/html": [
              "<div>\n",
              "<style scoped>\n",
              "    .dataframe tbody tr th:only-of-type {\n",
              "        vertical-align: middle;\n",
              "    }\n",
              "\n",
              "    .dataframe tbody tr th {\n",
              "        vertical-align: top;\n",
              "    }\n",
              "\n",
              "    .dataframe thead th {\n",
              "        text-align: right;\n",
              "    }\n",
              "</style>\n",
              "<table border=\"1\" class=\"dataframe\">\n",
              "  <thead>\n",
              "    <tr style=\"text-align: right;\">\n",
              "      <th></th>\n",
              "      <th>ID</th>\n",
              "      <th>AssetID</th>\n",
              "      <th>Value</th>\n",
              "      <th>RecordTime</th>\n",
              "      <th>RecordDate</th>\n",
              "      <th>DateTime</th>\n",
              "      <th>TimeStamp</th>\n",
              "      <th>ShiftCode</th>\n",
              "    </tr>\n",
              "  </thead>\n",
              "  <tbody>\n",
              "    <tr>\n",
              "      <th>5</th>\n",
              "      <td>1055869</td>\n",
              "      <td>9343</td>\n",
              "      <td>103.0</td>\n",
              "      <td>09:09:17</td>\n",
              "      <td>2021/03/19</td>\n",
              "      <td>2021-03-19 09:09:17.000</td>\n",
              "      <td>1616132357</td>\n",
              "      <td>12</td>\n",
              "    </tr>\n",
              "    <tr>\n",
              "      <th>6</th>\n",
              "      <td>1055872</td>\n",
              "      <td>9343</td>\n",
              "      <td>33.0</td>\n",
              "      <td>12:01:17</td>\n",
              "      <td>2021/03/19</td>\n",
              "      <td>2021-03-19 12:01:17.000</td>\n",
              "      <td>1616142677</td>\n",
              "      <td>12</td>\n",
              "    </tr>\n",
              "    <tr>\n",
              "      <th>21</th>\n",
              "      <td>1057010</td>\n",
              "      <td>8330</td>\n",
              "      <td>30.0</td>\n",
              "      <td>12:28:41</td>\n",
              "      <td>2021/03/19</td>\n",
              "      <td>2021-03-19 12:28:41.000</td>\n",
              "      <td>1616144321</td>\n",
              "      <td>12</td>\n",
              "    </tr>\n",
              "    <tr>\n",
              "      <th>22</th>\n",
              "      <td>1057011</td>\n",
              "      <td>8331</td>\n",
              "      <td>58.0</td>\n",
              "      <td>12:28:49</td>\n",
              "      <td>2021/03/19</td>\n",
              "      <td>2021-03-19 12:28:49.000</td>\n",
              "      <td>1616144329</td>\n",
              "      <td>12</td>\n",
              "    </tr>\n",
              "    <tr>\n",
              "      <th>23</th>\n",
              "      <td>1057012</td>\n",
              "      <td>8332</td>\n",
              "      <td>26.0</td>\n",
              "      <td>12:29:25</td>\n",
              "      <td>2021/03/19</td>\n",
              "      <td>2021-03-19 12:29:25.000</td>\n",
              "      <td>1616144365</td>\n",
              "      <td>12</td>\n",
              "    </tr>\n",
              "  </tbody>\n",
              "</table>\n",
              "</div>"
            ],
            "text/plain": [
              "         ID  AssetID  Value RecordTime  RecordDate                 DateTime  \\\n",
              "5   1055869     9343  103.0   09:09:17  2021/03/19  2021-03-19 09:09:17.000   \n",
              "6   1055872     9343   33.0   12:01:17  2021/03/19  2021-03-19 12:01:17.000   \n",
              "21  1057010     8330   30.0   12:28:41  2021/03/19  2021-03-19 12:28:41.000   \n",
              "22  1057011     8331   58.0   12:28:49  2021/03/19  2021-03-19 12:28:49.000   \n",
              "23  1057012     8332   26.0   12:29:25  2021/03/19  2021-03-19 12:29:25.000   \n",
              "\n",
              "     TimeStamp  ShiftCode  \n",
              "5   1616132357         12  \n",
              "6   1616142677         12  \n",
              "21  1616144321         12  \n",
              "22  1616144329         12  \n",
              "23  1616144365         12  "
            ]
          },
          "execution_count": 39,
          "metadata": {},
          "output_type": "execute_result"
        }
      ],
      "source": [
        "filtered_df = df1[(df1['Job'] == 'Operation') & (df1['IsDeleted'] == 0) & (df1['ValueType'] == 1)]\n",
        "df1 = filtered_df.drop(columns=['PersonelID', 'MobileID', 'Job', 'IsDeleted','OutofRange','ValueType','UnitID','OnTime'])\n",
        "df1.head()"
      ]
    },
    {
      "cell_type": "code",
      "execution_count": 40,
      "metadata": {
        "colab": {
          "base_uri": "https://localhost:8080/"
        },
        "id": "kfeeST4f-fSA",
        "outputId": "829a5fc4-9dba-4790-8d63-17d898a2c681"
      },
      "outputs": [
        {
          "name": "stdout",
          "output_type": "stream",
          "text": [
            "Number of rows: 56619\n"
          ]
        }
      ],
      "source": [
        "number_of_rows = df1.shape[0]\n",
        "print(\"Number of rows:\", number_of_rows)"
      ]
    },
    {
      "cell_type": "code",
      "execution_count": 41,
      "metadata": {
        "id": "f0Yf4Q3B-fSB"
      },
      "outputs": [],
      "source": [
        "df2 = pd.read_csv('systems.csv')"
      ]
    },
    {
      "cell_type": "code",
      "execution_count": 42,
      "metadata": {
        "id": "OV_GT2no-fSB"
      },
      "outputs": [],
      "source": [
        "# Merge df1 and df2 on AssetId\n",
        "merged_df = pd.merge(df1, df2, on='AssetID')\n",
        "\n",
        "# Drop the AssetId column\n",
        "result_df = merged_df.drop(columns=['KKS','MeasurementUnit','StartTime','DateTime','Version','Type',\n",
        "                                    'AssetRange','ShowCondition','SequenceShow','Activation','AssetTag','ActiveTimeTag','ActivationTag','IsDeleted',\n",
        "                                    'EditTime','RangeLL','RangeHH','RangeBol1','RangeBol2','RangeBol3','RangeBol4','NumType','Conditions','LTShort'])"
      ]
    },
    {
      "cell_type": "code",
      "execution_count": 43,
      "metadata": {
        "colab": {
          "base_uri": "https://localhost:8080/",
          "height": 304
        },
        "id": "TxzOUrzX-fSC",
        "outputId": "fc7a4a8a-34c6-4224-e110-6eb608adbd1a"
      },
      "outputs": [
        {
          "data": {
            "text/plain": [
              "AssetID\n",
              "9343    5413\n",
              "8335    5240\n",
              "8330    5240\n",
              "8331    5240\n",
              "8332    5240\n",
              "8333    5240\n",
              "8338    5240\n",
              "8339    5240\n",
              "Name: count, dtype: int64"
            ]
          },
          "execution_count": 43,
          "metadata": {},
          "output_type": "execute_result"
        }
      ],
      "source": [
        "# AssetIDs to check\n",
        "asset_ids_to_check = [8330,8331,8332,8333,8335,8338,8339]\n",
        "# Filter the DataFrame to include only the specified AssetIDs\n",
        "filtered_df = result_df[result_df['AssetID'].isin(asset_ids_to_check)]\n",
        "\n",
        "# Initialize a list to keep track of valid ShiftCodes\n",
        "valid_shiftcodes = []\n",
        "\n",
        "# Iterate through each ShiftCode and check the count of each AssetID\n",
        "for shift_code in filtered_df['ShiftCode'].unique():\n",
        "    shift_code_df = filtered_df[filtered_df['ShiftCode'] == shift_code]\n",
        "    asset_count = shift_code_df['AssetID'].value_counts()\n",
        "\n",
        "    if all(asset_count == 4):\n",
        "        valid_shiftcodes.append(shift_code)\n",
        "\n",
        "# Filter the original DataFrame to keep only the rows with valid ShiftCodes\n",
        "result_df = result_df[result_df['ShiftCode'].isin(valid_shiftcodes)]\n",
        "result_df['AssetID'].value_counts()"
      ]
    },
    {
      "cell_type": "code",
      "execution_count": 44,
      "metadata": {
        "id": "WhkBhCVI-fSD"
      },
      "outputs": [],
      "source": [
        "def df_preparing(asset_id1,asset_id2,asset_id3,asset_id4,asset_id5,asset_id6,asset_id7,date1,date2):\n",
        "    # Filter the DataFrame for the given AssetID\n",
        "    filtered_df1 = result_df[result_df['AssetID'] == asset_id1]\n",
        "    filtered_df2 = result_df[result_df['AssetID'] == asset_id2]\n",
        "    filtered_df3 = result_df[result_df['AssetID'] == asset_id3]\n",
        "    filtered_df4 = result_df[result_df['AssetID'] == asset_id4]\n",
        "    filtered_df5 = result_df[result_df['AssetID'] == asset_id5]\n",
        "    filtered_df6 = result_df[result_df['AssetID'] == asset_id6]\n",
        "    filtered_df7 = result_df[result_df['AssetID'] == asset_id7]\n",
        "    # filtered_df8 = result_df[result_df['AssetID'] == asset_id8]\n",
        "    # filtered_df9 = result_df[result_df['AssetID'] == asset_id9]\n",
        "    # filtered_df10 = result_df[result_df['AssetID'] == asset_id10]\n",
        "    # filtered_df11 = result_df[result_df['AssetID'] == asset_id11]\n",
        "    # filtered_df12 = result_df[result_df['AssetID'] == asset_id12]\n",
        "    # filtered_df13 = result_df[result_df['AssetID'] == asset_id13]\n",
        "    # filtered_df14 = result_df[result_df['AssetID'] == asset_id14]\n",
        "    # filtered_df15 = result_df[result_df['AssetID'] == asset_id15]\n",
        "    # filtered_df16 = result_df[result_df['AssetID'] == asset_id16]\n",
        "    # filtered_df17 = result_df[result_df['AssetID'] == asset_id17]\n",
        "\n",
        "    # Combine RecordDate and RecordTime into a single datetime column\n",
        "    filtered_df1['DateTime'] = pd.to_datetime(filtered_df1['RecordDate'] + ' ' + filtered_df1['RecordTime'])\n",
        "    filtered_df2['DateTime'] = pd.to_datetime(filtered_df2['RecordDate'] + ' ' + filtered_df2['RecordTime'])\n",
        "    filtered_df3['DateTime'] = pd.to_datetime(filtered_df3['RecordDate'] + ' ' + filtered_df3['RecordTime'])\n",
        "    filtered_df4['DateTime'] = pd.to_datetime(filtered_df4['RecordDate'] + ' ' + filtered_df4['RecordTime'])\n",
        "    filtered_df5['DateTime'] = pd.to_datetime(filtered_df5['RecordDate'] + ' ' + filtered_df5['RecordTime'])\n",
        "    filtered_df6['DateTime'] = pd.to_datetime(filtered_df6['RecordDate'] + ' ' + filtered_df6['RecordTime'])\n",
        "    filtered_df7['DateTime'] = pd.to_datetime(filtered_df7['RecordDate'] + ' ' + filtered_df7['RecordTime'])\n",
        "    # filtered_df8['DateTime'] = pd.to_datetime(filtered_df8['RecordDate'] + ' ' + filtered_df8['RecordTime'])\n",
        "    # filtered_df9['DateTime'] = pd.to_datetime(filtered_df9['RecordDate'] + ' ' + filtered_df9['RecordTime'])\n",
        "    # filtered_df10['DateTime'] = pd.to_datetime(filtered_df10['RecordDate'] + ' ' + filtered_df10['RecordTime'])\n",
        "    # filtered_df11['DateTime'] = pd.to_datetime(filtered_df11['RecordDate'] + ' ' + filtered_df11['RecordTime'])\n",
        "    # filtered_df12['DateTime'] = pd.to_datetime(filtered_df12['RecordDate'] + ' ' + filtered_df12['RecordTime'])\n",
        "    # filtered_df13['DateTime'] = pd.to_datetime(filtered_df13['RecordDate'] + ' ' + filtered_df13['RecordTime'])\n",
        "    # filtered_df14['DateTime'] = pd.to_datetime(filtered_df14['RecordDate'] + ' ' + filtered_df14['RecordTime'])\n",
        "    # filtered_df15['DateTime'] = pd.to_datetime(filtered_df15['RecordDate'] + ' ' + filtered_df15['RecordTime'])\n",
        "    # filtered_df16['DateTime'] = pd.to_datetime(filtered_df16['RecordDate'] + ' ' + filtered_df16['RecordTime'])\n",
        "    # filtered_df17['DateTime'] = pd.to_datetime(filtered_df17['RecordDate'] + ' ' + filtered_df17['RecordTime'])\n",
        "\n",
        "    # Sort the DataFrame by DateTime\n",
        "    filtered_df1 = filtered_df1.sort_values(by='DateTime')\n",
        "    filtered_df2 = filtered_df2.sort_values(by='DateTime')\n",
        "    filtered_df3 = filtered_df3.sort_values(by='DateTime')\n",
        "    filtered_df4 = filtered_df4.sort_values(by='DateTime')\n",
        "    filtered_df5 = filtered_df5.sort_values(by='DateTime')\n",
        "    filtered_df6 = filtered_df6.sort_values(by='DateTime')\n",
        "    filtered_df7 = filtered_df7.sort_values(by='DateTime')\n",
        "    # filtered_df8 = filtered_df8.sort_values(by='DateTime')\n",
        "    # filtered_df9 = filtered_df9.sort_values(by='DateTime')\n",
        "    # filtered_df10 = filtered_df10.sort_values(by='DateTime')\n",
        "    # filtered_df11 = filtered_df11.sort_values(by='DateTime')\n",
        "    # filtered_df12 = filtered_df12.sort_values(by='DateTime')\n",
        "    # filtered_df13 = filtered_df13.sort_values(by='DateTime')\n",
        "    # filtered_df14 = filtered_df14.sort_values(by='DateTime')\n",
        "    # filtered_df15 = filtered_df15.sort_values(by='DateTime')\n",
        "    # filtered_df16 = filtered_df16.sort_values(by='DateTime')\n",
        "    # filtered_df17 = filtered_df17.sort_values(by='DateTime')\n",
        "\n",
        "    # Filter the DataFrame for the first month of 2022\n",
        "    lube_oil_df1 = filtered_df1[(filtered_df1['DateTime'] >= date1) & (filtered_df1['DateTime'] <= date2)]\n",
        "    lube_oil_df2 = filtered_df2[(filtered_df2['DateTime'] >= date1) & (filtered_df2['DateTime'] <= date2)]\n",
        "    lube_oil_df3 = filtered_df3[(filtered_df3['DateTime'] >= date1) & (filtered_df3['DateTime'] <= date2)]\n",
        "    lube_oil_df4 = filtered_df4[(filtered_df4['DateTime'] >= date1) & (filtered_df4['DateTime'] <= date2)]\n",
        "    lube_oil_df5 = filtered_df5[(filtered_df5['DateTime'] >= date1) & (filtered_df5['DateTime'] <= date2)]\n",
        "    lube_oil_df6 = filtered_df6[(filtered_df6['DateTime'] >= date1) & (filtered_df6['DateTime'] <= date2)]\n",
        "    lube_oil_df7 = filtered_df7[(filtered_df7['DateTime'] >= date1) & (filtered_df7['DateTime'] <= date2)]\n",
        "    # lube_oil_df8 = filtered_df8[(filtered_df8['DateTime'] >= date1) & (filtered_df8['DateTime'] <= date2)]\n",
        "    # lube_oil_df9 = filtered_df9[(filtered_df9['DateTime'] >= date1) & (filtered_df9['DateTime'] <= date2)]\n",
        "    # lube_oil_df10 = filtered_df10[(filtered_df10['DateTime'] >= date1) & (filtered_df10['DateTime'] <= date2)]\n",
        "    # lube_oil_df11 = filtered_df11[(filtered_df11['DateTime'] >= date1) & (filtered_df11['DateTime'] <= date2)]\n",
        "    # lube_oil_df12 = filtered_df12[(filtered_df12['DateTime'] >= date1) & (filtered_df12['DateTime'] <= date2)]\n",
        "    # lube_oil_df13 = filtered_df13[(filtered_df13['DateTime'] >= date1) & (filtered_df13['DateTime'] <= date2)]\n",
        "    # lube_oil_df14 = filtered_df14[(filtered_df14['DateTime'] >= date1) & (filtered_df14['DateTime'] <= date2)]\n",
        "    # lube_oil_df15 = filtered_df15[(filtered_df15['DateTime'] >= date1) & (filtered_df15['DateTime'] <= date2)]\n",
        "    # lube_oil_df16 = filtered_df16[(filtered_df16['DateTime'] >= date1) & (filtered_df16['DateTime'] <= date2)]\n",
        "    # lube_oil_df17 = filtered_df17[(filtered_df17['DateTime'] >= date1) & (filtered_df17['DateTime'] <= date2)]\n",
        "\n",
        "    # Display the DataFrame as HTML\n",
        "    number_of_rows1 = lube_oil_df1.shape[0]\n",
        "    number_of_rows2 = lube_oil_df2.shape[0]\n",
        "    number_of_rows3 = lube_oil_df3.shape[0]\n",
        "    number_of_rows4 = lube_oil_df4.shape[0]\n",
        "    number_of_rows5 = lube_oil_df5.shape[0]\n",
        "    number_of_rows6 = lube_oil_df6.shape[0]\n",
        "    number_of_rows7 = lube_oil_df7.shape[0]\n",
        "    # number_of_rows8 = lube_oil_df8.shape[0]\n",
        "    # number_of_rows9 = lube_oil_df9.shape[0]\n",
        "    # number_of_rows10 = lube_oil_df10.shape[0]\n",
        "    # number_of_rows11 = lube_oil_df11.shape[0]\n",
        "    # number_of_rows12 = lube_oil_df12.shape[0]\n",
        "    # number_of_rows13 = lube_oil_df13.shape[0]\n",
        "    # number_of_rows14 = lube_oil_df14.shape[0]\n",
        "    # number_of_rows15 = lube_oil_df15.shape[0]\n",
        "    # number_of_rows16 = lube_oil_df16.shape[0]\n",
        "    # number_of_rows17 = lube_oil_df17.shape[0]\n",
        "\n",
        "    lube_oil_df1.dropna(subset=['Value'])\n",
        "    lube_oil_df2.dropna(subset=['Value'])\n",
        "    lube_oil_df3.dropna(subset=['Value'])\n",
        "    lube_oil_df4.dropna(subset=['Value'])\n",
        "    lube_oil_df5.dropna(subset=['Value'])\n",
        "    lube_oil_df6.dropna(subset=['Value'])\n",
        "    lube_oil_df7.dropna(subset=['Value'])\n",
        "    # lube_oil_df8.dropna(subset=['Value'])\n",
        "    # lube_oil_df9.dropna(subset=['Value'])\n",
        "    # lube_oil_df10.dropna(subset=['Value'])\n",
        "    # lube_oil_df11.dropna(subset=['Value'])\n",
        "    # lube_oil_df12.dropna(subset=['Value'])\n",
        "    # lube_oil_df13.dropna(subset=['Value'])\n",
        "    # lube_oil_df14.dropna(subset=['Value'])\n",
        "    # lube_oil_df15.dropna(subset=['Value'])\n",
        "    # lube_oil_df16.dropna(subset=['Value'])\n",
        "    # lube_oil_df17.dropna(subset=['Value'])\n",
        "\n",
        "    print(\"Number of rows1:\", number_of_rows1)\n",
        "    print(\"Number of rows2:\", number_of_rows2)\n",
        "    print(\"Number of rows3:\", number_of_rows3)\n",
        "    print(\"Number of rows4:\", number_of_rows4)\n",
        "    print(\"Number of rows5:\", number_of_rows5)\n",
        "    print(\"Number of rows6:\", number_of_rows6)\n",
        "    print(\"Number of rows7:\", number_of_rows7)\n",
        "    # print(\"Number of rows8:\", number_of_rows8)\n",
        "    # print(\"Number of rows9:\", number_of_rows9)\n",
        "    # print(\"Number of rows10:\", number_of_rows10)\n",
        "    # print(\"Number of rows11:\", number_of_rows11)\n",
        "    # print(\"Number of rows12:\", number_of_rows12)\n",
        "    # print(\"Number of rows13:\", number_of_rows13)\n",
        "    # print(\"Number of rows14:\", number_of_rows14)\n",
        "    # print(\"Number of rows15:\", number_of_rows15)\n",
        "    # print(\"Number of rows16:\", number_of_rows16)\n",
        "    # print(\"Number of rows17:\", number_of_rows17)\n",
        "\n",
        "    # Ensure both DataFrames are properly indexed\n",
        "    df1 = lube_oil_df1.reset_index(drop=True)\n",
        "    df2 = lube_oil_df2.reset_index(drop=True)\n",
        "    df3 = lube_oil_df3.reset_index(drop=True)\n",
        "    df4 = lube_oil_df4.reset_index(drop=True)\n",
        "    df5 = lube_oil_df5.reset_index(drop=True)\n",
        "    df6 = lube_oil_df6.reset_index(drop=True)\n",
        "    df7 = lube_oil_df7.reset_index(drop=True)\n",
        "    # df8 = lube_oil_df8.reset_index(drop=True)\n",
        "    # df9 = lube_oil_df9.reset_index(drop=True)\n",
        "    # df10 = lube_oil_df10.reset_index(drop=True)\n",
        "    # df11 = lube_oil_df11.reset_index(drop=True)\n",
        "    # df12 = lube_oil_df12.reset_index(drop=True)\n",
        "    # df13 = lube_oil_df13.reset_index(drop=True)\n",
        "    # df14 = lube_oil_df14.reset_index(drop=True)\n",
        "    # df15 = lube_oil_df15.reset_index(drop=True)\n",
        "    # df16 = lube_oil_df16.reset_index(drop=True)\n",
        "    # df17 = lube_oil_df17.reset_index(drop=True)\n",
        "\n",
        "    # Create a new DataFrame by concatenating the 'Value' columns from each DataFrame\n",
        "    combined_df = pd.concat([df1['Value'],\n",
        "                             df2['Value'], \n",
        "                             df3['Value'], \n",
        "                             df4['Value'], \n",
        "                             df5['Value'],\n",
        "                             df6['Value'],\n",
        "                             df7['Value']], axis=1)\n",
        "    print(\"Number of concat rows:\", combined_df.shape[0])\n",
        "    # Rename the columns\n",
        "    combined_df.columns = ['GEN.INLET AIR TEMP.',\n",
        "                           'GEN.OUTLET AIR TEMP.',\n",
        "                           'C.W.INLET TEMP.',\n",
        "                           'C.W. OUTLET TEMP.',\n",
        "                           'C.W PUMP OUT LET PRESS',\n",
        "                           'C.W.INLET PRESSUR',\n",
        "                           'C.W OUT LET PRESS']\n",
        "\n",
        "\n",
        "\n",
        "    return combined_df"
      ]
    },
    {
      "cell_type": "code",
      "execution_count": 45,
      "metadata": {
        "colab": {
          "base_uri": "https://localhost:8080/"
        },
        "id": "7ZlAitgz-fSD",
        "outputId": "ac8ecfa2-928d-4750-e036-02b9e945a69e"
      },
      "outputs": [
        {
          "name": "stdout",
          "output_type": "stream",
          "text": [
            "Number of rows1: 5240\n",
            "Number of rows2: 5240\n",
            "Number of rows3: 5240\n",
            "Number of rows4: 5240\n",
            "Number of rows5: 5240\n",
            "Number of rows6: 5240\n",
            "Number of rows7: 5240\n",
            "Number of concat rows: 5240\n"
          ]
        }
      ],
      "source": [
        "df = df_preparing(8330,8331,8332,8333,8335,8338,8339,'2021-01-01','2025-01-10')\n",
        "# Convert specific columns to numeric\n",
        "df['GEN.INLET AIR TEMP.'] = pd.to_numeric(df['GEN.INLET AIR TEMP.'])\n",
        "df['GEN.OUTLET AIR TEMP.'] = pd.to_numeric(df['GEN.OUTLET AIR TEMP.'])\n",
        "df['C.W.INLET TEMP.'] = pd.to_numeric(df['C.W.INLET TEMP.'])\n",
        "df['C.W. OUTLET TEMP.'] = pd.to_numeric(df['C.W. OUTLET TEMP.'])\n",
        "df['C.W PUMP OUT LET PRESS'] = pd.to_numeric(df['C.W PUMP OUT LET PRESS'])\n",
        "df['C.W.INLET PRESSUR'] = pd.to_numeric(df['C.W.INLET PRESSUR'])\n",
        "df['C.W OUT LET PRESS'] = pd.to_numeric(df['C.W OUT LET PRESS'])\n",
        "# df['BLADE PATH DIFF TEMP9'] = pd.to_numeric(df['BLADE PATH DIFF TEMP9'])\n",
        "# df['BLADE PATH DIFF TEMP10'] = pd.to_numeric(df['BLADE PATH DIFF TEMP10'])\n",
        "# df['BLADE PATH DIFF TEMP11'] = pd.to_numeric(df['BLADE PATH DIFF TEMP11'])\n",
        "# df['BLADE PATH DIFF TEMP12'] = pd.to_numeric(df['BLADE PATH DIFF TEMP12'])\n",
        "# df['BLADE PATH DIFF TEMP13'] = pd.to_numeric(df['BLADE PATH DIFF TEMP13'])\n",
        "# df['BLADE PATH DIFF TEMP14'] = pd.to_numeric(df['BLADE PATH DIFF TEMP14'])\n",
        "# df['BLADE PATH DIFF TEMP15'] = pd.to_numeric(df['BLADE PATH DIFF TEMP15'])\n",
        "# df['BLADE PATH DIFF TEMP16'] = pd.to_numeric(df['BLADE PATH DIFF TEMP16'])\n",
        "# df['BLADE PATH DIFF TEMP17'] = pd.to_numeric(df['BLADE PATH DIFF TEMP17'])\n",
        "# df['BLADE PATH DIFF TEMP18'] = pd.to_numeric(df['BLADE PATH DIFF TEMP18'])"
      ]
    },
    {
      "cell_type": "code",
      "execution_count": 46,
      "metadata": {},
      "outputs": [
        {
          "data": {
            "text/plain": [
              "['scaler_ccw_dbscan.joblib']"
            ]
          },
          "execution_count": 46,
          "metadata": {},
          "output_type": "execute_result"
        }
      ],
      "source": [
        "# Standardize the data\n",
        "scaler = StandardScaler()\n",
        "scaled_data = scaler.fit_transform(df)\n",
        "joblib.dump(scaler, 'scaler_ccw_dbscan.joblib')"
      ]
    },
    {
      "cell_type": "code",
      "execution_count": 62,
      "metadata": {},
      "outputs": [
        {
          "name": "stdout",
          "output_type": "stream",
          "text": [
            "   Cluster  Count\n",
            "0       -1     95\n",
            "1        0    194\n",
            "2        1   2902\n",
            "3        2   1800\n",
            "4        3     37\n",
            "5        4     99\n",
            "6        5    113\n"
          ]
        }
      ],
      "source": [
        "dbscan = DBSCAN(eps=0.7, min_samples=10)\n",
        "clusters = dbscan.fit_predict(scaled_data)\n",
        "df['Cluster'] = clusters\n",
        "cluster_counts = df['Cluster'].value_counts().sort_index()\n",
        "cluster_counts_df = cluster_counts.reset_index()\n",
        "cluster_counts_df.columns = ['Cluster', 'Count']\n",
        "print(cluster_counts_df)"
      ]
    },
    {
      "cell_type": "code",
      "execution_count": 48,
      "metadata": {},
      "outputs": [
        {
          "data": {
            "image/png": "[encoded data removed]",
            "text/plain": [
              "<Figure size 500x300 with 1 Axes>"
            ]
          },
          "metadata": {},
          "output_type": "display_data"
        }
      ],
      "source": [
        "# Reduce dimensions to 2D using PCA\n",
        "pca = PCA(n_components=2)\n",
        "data_2d = pca.fit_transform(scaled_data)\n",
        "\n",
        "# Plot the data points with cluster labels\n",
        "plt.figure(figsize=(5, 3))\n",
        "for i in range(4):\n",
        "    plt.scatter(data_2d[clusters == i, 0], data_2d[clusters == i, 1], label=f'Cluster {i+1}')\n",
        "plt.title('2D Visualization of Clusters')\n",
        "plt.xlabel('PCA Component 1')\n",
        "plt.ylabel('PCA Component 2')\n",
        "plt.legend()\n",
        "plt.show()"
      ]
    },
    {
      "cell_type": "code",
      "execution_count": 49,
      "metadata": {},
      "outputs": [
        {
          "name": "stdout",
          "output_type": "stream",
          "text": [
            "Average Silhouette Score: 0.06646815116979642\n"
          ]
        },
        {
          "data": {
            "image/png": "[encoded data removed]",
            "text/plain": [
              "<Figure size 500x300 with 1 Axes>"
            ]
          },
          "metadata": {},
          "output_type": "display_data"
        },
        {
          "data": {
            "text/plain": [
              "<Figure size 400x300 with 0 Axes>"
            ]
          },
          "metadata": {},
          "output_type": "display_data"
        }
      ],
      "source": [
        "# Number of clusters for KMeans\n",
        "n_clusters = 10\n",
        "# Add cluster labels to the original DataFrame\n",
        "df['Cluster'] = clusters\n",
        "# Count the number of data points in each cluster\n",
        "cluster_counts = df['Cluster'].value_counts().sort_index()\n",
        "\n",
        "# Calculate the Silhouette Score\n",
        "silhouette_avg = silhouette_score(scaled_data, clusters)\n",
        "print(f\"Average Silhouette Score: {silhouette_avg}\")\n",
        "\n",
        "# Calculate the Silhouette Coefficients for each sample\n",
        "sample_silhouette_values = silhouette_samples(scaled_data, clusters)\n",
        "\n",
        "# Create the Silhouette Plot\n",
        "fig, ax1 = plt.subplots(1, 1)\n",
        "fig.set_size_inches(5, 3)\n",
        "\n",
        "# Set limits for the plot\n",
        "ax1.set_xlim([-0.1, 1])\n",
        "ax1.set_ylim([0, len(scaled_data) + (n_clusters + 1) * 10])\n",
        "\n",
        "# Initialize the y-axis position\n",
        "y_lower = 10\n",
        "\n",
        "for i in range(n_clusters):\n",
        "    # Aggregate silhouette scores for samples in cluster i\n",
        "    ith_cluster_silhouette_values = sample_silhouette_values[clusters == i]\n",
        "    ith_cluster_silhouette_values.sort()\n",
        "\n",
        "    size_cluster_i = ith_cluster_silhouette_values.shape[0]\n",
        "    y_upper = y_lower + size_cluster_i\n",
        "\n",
        "    color = cm.nipy_spectral(float(i) / n_clusters)\n",
        "    ax1.fill_betweenx(np.arange(y_lower, y_upper), 0, ith_cluster_silhouette_values, facecolor=color, edgecolor=color, alpha=0.7)\n",
        "\n",
        "    # Label the silhouette plots with their cluster numbers\n",
        "    ax1.text(-0.05, y_lower + 0.5 * size_cluster_i, str(i))\n",
        "\n",
        "    # Compute the new y_lower for next plot\n",
        "    y_lower = y_upper + 10\n",
        "\n",
        "# Plot the average silhouette score as a vertical line\n",
        "plt.figure(figsize=(4, 3))\n",
        "ax1.axvline(x=silhouette_avg, color=\"red\", linestyle=\"--\")\n",
        "ax1.set_title(\"Silhouette Plot for the Clusters\")\n",
        "ax1.set_xlabel(\"Silhouette Coefficient\")\n",
        "ax1.set_ylabel(\"Cluster Label\")\n",
        "plt.show()"
      ]
    },
    {
      "cell_type": "code",
      "execution_count": null,
      "metadata": {},
      "outputs": [],
      "source": []
    },
    {
      "cell_type": "code",
      "execution_count": 50,
      "metadata": {},
      "outputs": [
        {
          "name": "stdout",
          "output_type": "stream",
          "text": [
            "The predicted cluster for the sample data point is: 1\n"
          ]
        }
      ],
      "source": [
        "# Sample data point\n",
        "sample_data = pd.DataFrame([{\n",
        "    'GEN.INLET AIR TEMP.':40,\n",
        "    'GEN.OUTLET AIR TEMP.':69,\n",
        "    'C.W.INLET TEMP.':37,\n",
        "    'C.W. OUTLET TEMP.':43,\n",
        "    'C.W PUMP OUT LET PRESS':4.9,\n",
        "    'C.W.INLET PRESSUR':4.4,\n",
        "    'C.W OUT LET PRESS':4.2}])\n",
        "\n",
        "# Scale the sample data point\n",
        "scaled_sample_data = scaler.transform(sample_data)\n",
        "\n",
        "# Use Nearest Neighbors to find the closest cluster\n",
        "nearest_neighbors = NearestNeighbors(n_neighbors=1)\n",
        "nearest_neighbors.fit(scaled_data)  # Fit on the training data\n",
        "# Find the nearest cluster for the sample data point\n",
        "_, indices = nearest_neighbors.kneighbors(scaled_sample_data)\n",
        "predicted_cluster = clusters[indices[0][0]]\n",
        "\n",
        "print(f'The predicted cluster for the sample data point is: {predicted_cluster}')\n"
      ]
    },
    {
      "cell_type": "code",
      "execution_count": 51,
      "metadata": {},
      "outputs": [],
      "source": [
        "# # Sample data (replace this with your own data)\n",
        "# data = np.random.rand(100, 2)  # Example data\n",
        "\n",
        "# # Standardize features\n",
        "# scaler = StandardScaler()\n",
        "# data_scaled = scaler.fit_transform(data)\n",
        "\n",
        "# # Function to tune DBSCAN hyperparameters\n",
        "# def tune_dbscan(data, eps_values, min_samples_values, random_state=None):\n",
        "#     best_score = -1\n",
        "#     best_params = {}\n",
        "    \n",
        "#     for eps in eps_values:\n",
        "#         for min_samples in min_samples_values:\n",
        "#             dbscan = DBSCAN(eps=eps, min_samples=min_samples)\n",
        "#             clusters = dbscan.fit_predict(data)\n",
        "            \n",
        "#             # Check if clusters are found\n",
        "#             if len(set(clusters)) > 1:\n",
        "#                 score = silhouette_score(data, clusters)\n",
        "                \n",
        "#                 if score > best_score:\n",
        "#                     best_score = score\n",
        "#                     best_params = {'eps': eps, 'min_samples': min_samples}\n",
        "    \n",
        "#     return best_params, best_score\n",
        "\n",
        "# # Define hyperparameter ranges\n",
        "# eps_values = np.arange(0.1, 1.5, 0.1)\n",
        "# min_samples_values = range(2, 10)\n",
        "\n",
        "# # Set random seed for reproducibility\n",
        "# np.random.seed(42)\n",
        "\n",
        "# # Tune hyperparameters\n",
        "# best_params, best_score = tune_dbscan(data_scaled, eps_values, min_samples_values)\n",
        "\n",
        "# # Print best parameters and score\n",
        "# print(f\"Best Parameters: {best_params}\")\n",
        "# print(f\"Best Silhouette Score: {best_score}\")\n",
        "\n",
        "# # Plotting clusters with best parameters\n",
        "# dbscan = DBSCAN(eps=best_params['eps'], min_samples=best_params['min_samples'])\n",
        "# clusters = dbscan.fit_predict(data_scaled)\n",
        "\n",
        "# plt.scatter(data[:, 0], data[:, 1], c=clusters)\n",
        "# plt.title('DBSCAN Clustering')\n",
        "# plt.xlabel('Feature 1')\n",
        "# plt.ylabel('Feature 2')\n",
        "# plt.figure(figsize=(4, 3))\n",
        "# plt.show()\n"
      ]
    },
    {
      "cell_type": "code",
      "execution_count": 52,
      "metadata": {},
      "outputs": [
        {
          "name": "stdout",
          "output_type": "stream",
          "text": [
            "      GEN.INLET AIR TEMP.  GEN.OUTLET AIR TEMP.  C.W.INLET TEMP.  \\\n",
            "69                   44.0                  75.0             60.0   \n",
            "0                    38.0                  70.0             33.0   \n",
            "4                    40.0                  69.0             37.0   \n",
            "6                    50.0                  79.0             47.0   \n",
            "316                  34.0                  61.0             30.0   \n",
            "401                  40.0                  68.0             35.0   \n",
            "415                  34.0                  74.0             29.0   \n",
            "761                  68.0                  75.0             31.0   \n",
            "768                  70.0                  76.0             34.0   \n",
            "2730                 54.0                  82.0             50.0   \n",
            "2864                 40.0                  67.0             36.0   \n",
            "\n",
            "      C.W. OUTLET TEMP.  C.W PUMP OUT LET PRESS  C.W.INLET PRESSUR  \\\n",
            "69                 46.0                    4.85                4.6   \n",
            "0                  40.0                    4.90                4.6   \n",
            "4                  43.0                    4.90                4.4   \n",
            "6                  53.0                    4.90                0.0   \n",
            "316                36.0                    0.00                4.3   \n",
            "401                42.0                    0.00                4.4   \n",
            "415                36.0                    4.80                4.4   \n",
            "761                41.0                    4.85                0.4   \n",
            "768                36.0                    4.85                4.6   \n",
            "2730               54.0                    4.90                0.0   \n",
            "2864               39.0                    4.90                0.0   \n",
            "\n",
            "      C.W OUT LET PRESS  Cluster  \n",
            "69                  4.4     -1.0  \n",
            "0                   0.0      0.0  \n",
            "4                   4.2      1.0  \n",
            "6                   4.2      2.0  \n",
            "316                 4.2      3.0  \n",
            "401                 4.2      4.0  \n",
            "415                 4.2      5.0  \n",
            "761                 0.0      6.0  \n",
            "768                 4.4      7.0  \n",
            "2730                6.0      8.0  \n",
            "2864                0.0      9.0  \n"
          ]
        }
      ],
      "source": [
        "# Sample one data point from each cluster\n",
        "sample_data_points = []\n",
        "\n",
        "for cluster_label in sorted(df['Cluster'].unique()):\n",
        "    sample_point = df[df['Cluster'] == cluster_label].iloc[0]  # Select the first data point from each cluster\n",
        "    sample_data_points.append(sample_point)\n",
        "\n",
        "# Convert the list of sample data points to a DataFrame for better visualization\n",
        "sample_data_df = pd.DataFrame(sample_data_points)\n",
        "\n",
        "# Display the sample data points for each cluster\n",
        "print(sample_data_df)\n"
      ]
    },
    {
      "cell_type": "code",
      "execution_count": 53,
      "metadata": {},
      "outputs": [
        {
          "data": {
            "text/plain": [
              "['model2_ccw_dbscan.joblib']"
            ]
          },
          "execution_count": 53,
          "metadata": {},
          "output_type": "execute_result"
        }
      ],
      "source": [
        "joblib.dump(clusters, 'clusters_ccw_dbscan.joblib')\n",
        "joblib.dump(dbscan, 'model_ccw_dbscan.joblib')\n",
        "joblib.dump(nearest_neighbors, 'model2_ccw_dbscan.joblib')"
      ]
    }
  ],
  "metadata": {
    "colab": {
      "include_colab_link": true,
      "provenance": []
    },
    "kernelspec": {
      "display_name": "test2",
      "language": "python",
      "name": "python3"
    },
    "language_info": {
      "codemirror_mode": {
        "name": "ipython",
        "version": 3
      },
      "file_extension": ".py",
      "mimetype": "text/x-python",
      "name": "python",
      "nbconvert_exporter": "python",
      "pygments_lexer": "ipython3",
      "version": "3.12.3"
    }
  },
  "nbformat": 4,
  "nbformat_minor": 0
}
