{
  "cells": [
    {
      "cell_type": "markdown",
      "metadata": {
        "id": "view-in-github",
        "colab_type": "text"
      },
      "source": [
        "<a href=\"https://colab.research.google.com/github/reza-pishva/004-anomally-detection-ccw-11/blob/main/ipynb/clustering_ccw_iforest2.ipynb\" target=\"_parent\"><img src=\"https://colab.research.google.com/assets/colab-badge.svg\" alt=\"Open In Colab\"/></a>"
      ]
    },
    {
      "cell_type": "code",
      "execution_count": 113,
      "metadata": {
        "id": "9Fo6_G3J-fR8"
      },
      "outputs": [],
      "source": [
        "import pandas as pd\n",
        "import numpy as np\n",
        "from sklearn.preprocessing import StandardScaler\n",
        "from pyod.models.abod import ABOD\n",
        "from pyod.models.lscp import LSCP\n",
        "from pyod.models.knn import KNN\n",
        "from sklearn.neighbors import NearestNeighbors\n",
        "from pyod.models.feature_bagging import FeatureBagging\n",
        "from sklearn.decomposition import PCA\n",
        "import matplotlib.pyplot as plt\n",
        "import matplotlib.cm as cm\n",
        "import seaborn as sns\n",
        "from sklearn.metrics import silhouette_score, silhouette_samples\n",
        "import warnings\n",
        "import joblib\n",
        "warnings.filterwarnings(\"ignore\")"
      ]
    },
    {
      "cell_type": "code",
      "source": [
        "# !pip install PyOD\n",
        "# !pip install combo\n",
        "# !pip install Pycaret"
      ],
      "metadata": {
        "id": "wEhIM6wnUP25"
      },
      "execution_count": 114,
      "outputs": []
    },
    {
      "cell_type": "code",
      "source": [
        "cluster_no= 3"
      ],
      "metadata": {
        "id": "PYfcWN5qXq2e"
      },
      "execution_count": 115,
      "outputs": []
    },
    {
      "cell_type": "code",
      "execution_count": 116,
      "metadata": {
        "id": "CP1eYzvK-fR_",
        "colab": {
          "base_uri": "https://localhost:8080/"
        },
        "outputId": "0e230e5c-8018-4758-ce11-267ab34d06b6"
      },
      "outputs": [
        {
          "output_type": "stream",
          "name": "stdout",
          "text": [
            "Drive already mounted at /content/drive; to attempt to forcibly remount, call drive.mount(\"/content/drive\", force_remount=True).\n"
          ]
        }
      ],
      "source": [
        "from google.colab import drive\n",
        "drive.mount('/content/drive')\n",
        "path1 = '/content/drive/My Drive/dataset/dsas1112.csv'\n",
        "path2 = '/content/drive/My Drive/dataset/systems.csv'\n",
        "df1 = pd.read_csv(path1)"
      ]
    },
    {
      "cell_type": "code",
      "execution_count": 117,
      "metadata": {
        "colab": {
          "base_uri": "https://localhost:8080/",
          "height": 206
        },
        "id": "Gd6zRFsv-fR_",
        "outputId": "7bf53384-c4f1-467d-f53f-c526a2407932"
      },
      "outputs": [
        {
          "output_type": "execute_result",
          "data": {
            "text/plain": [
              "          ID  AssetID  Value RecordTime  RecordDate                 DateTime  \\\n",
              "220  1055869     9343  103.0   09:09:17  2021/03/19  2021-03-19 09:09:17.000   \n",
              "221  1055870     9344   20.0   09:09:27  2021/03/19  2021-03-19 09:09:27.000   \n",
              "222  1055871     9345  49.93   09:09:41  2021/03/19  2021-03-19 09:09:41.000   \n",
              "223  1055872     9343   33.0   12:01:17  2021/03/19  2021-03-19 12:01:17.000   \n",
              "224  1055873     9344   13.0   12:01:21  2021/03/19  2021-03-19 12:01:21.000   \n",
              "\n",
              "      TimeStamp  ShiftCode  \n",
              "220  1616132357         12  \n",
              "221  1616132367         12  \n",
              "222  1616132381         12  \n",
              "223  1616142677         12  \n",
              "224  1616142681         12  "
            ],
            "text/html": [
              "\n",
              "  <div id=\"df-adc1326c-27d8-4f74-a7ea-34a148f37be5\" class=\"colab-df-container\">\n",
              "    <div>\n",
              "<style scoped>\n",
              "    .dataframe tbody tr th:only-of-type {\n",
              "        vertical-align: middle;\n",
              "    }\n",
              "\n",
              "    .dataframe tbody tr th {\n",
              "        vertical-align: top;\n",
              "    }\n",
              "\n",
              "    .dataframe thead th {\n",
              "        text-align: right;\n",
              "    }\n",
              "</style>\n",
              "<table border=\"1\" class=\"dataframe\">\n",
              "  <thead>\n",
              "    <tr style=\"text-align: right;\">\n",
              "      <th></th>\n",
              "      <th>ID</th>\n",
              "      <th>AssetID</th>\n",
              "      <th>Value</th>\n",
              "      <th>RecordTime</th>\n",
              "      <th>RecordDate</th>\n",
              "      <th>DateTime</th>\n",
              "      <th>TimeStamp</th>\n",
              "      <th>ShiftCode</th>\n",
              "    </tr>\n",
              "  </thead>\n",
              "  <tbody>\n",
              "    <tr>\n",
              "      <th>220</th>\n",
              "      <td>1055869</td>\n",
              "      <td>9343</td>\n",
              "      <td>103.0</td>\n",
              "      <td>09:09:17</td>\n",
              "      <td>2021/03/19</td>\n",
              "      <td>2021-03-19 09:09:17.000</td>\n",
              "      <td>1616132357</td>\n",
              "      <td>12</td>\n",
              "    </tr>\n",
              "    <tr>\n",
              "      <th>221</th>\n",
              "      <td>1055870</td>\n",
              "      <td>9344</td>\n",
              "      <td>20.0</td>\n",
              "      <td>09:09:27</td>\n",
              "      <td>2021/03/19</td>\n",
              "      <td>2021-03-19 09:09:27.000</td>\n",
              "      <td>1616132367</td>\n",
              "      <td>12</td>\n",
              "    </tr>\n",
              "    <tr>\n",
              "      <th>222</th>\n",
              "      <td>1055871</td>\n",
              "      <td>9345</td>\n",
              "      <td>49.93</td>\n",
              "      <td>09:09:41</td>\n",
              "      <td>2021/03/19</td>\n",
              "      <td>2021-03-19 09:09:41.000</td>\n",
              "      <td>1616132381</td>\n",
              "      <td>12</td>\n",
              "    </tr>\n",
              "    <tr>\n",
              "      <th>223</th>\n",
              "      <td>1055872</td>\n",
              "      <td>9343</td>\n",
              "      <td>33.0</td>\n",
              "      <td>12:01:17</td>\n",
              "      <td>2021/03/19</td>\n",
              "      <td>2021-03-19 12:01:17.000</td>\n",
              "      <td>1616142677</td>\n",
              "      <td>12</td>\n",
              "    </tr>\n",
              "    <tr>\n",
              "      <th>224</th>\n",
              "      <td>1055873</td>\n",
              "      <td>9344</td>\n",
              "      <td>13.0</td>\n",
              "      <td>12:01:21</td>\n",
              "      <td>2021/03/19</td>\n",
              "      <td>2021-03-19 12:01:21.000</td>\n",
              "      <td>1616142681</td>\n",
              "      <td>12</td>\n",
              "    </tr>\n",
              "  </tbody>\n",
              "</table>\n",
              "</div>\n",
              "    <div class=\"colab-df-buttons\">\n",
              "\n",
              "  <div class=\"colab-df-container\">\n",
              "    <button class=\"colab-df-convert\" onclick=\"convertToInteractive('df-adc1326c-27d8-4f74-a7ea-34a148f37be5')\"\n",
              "            title=\"Convert this dataframe to an interactive table.\"\n",
              "            style=\"display:none;\">\n",
              "\n",
              "  <svg xmlns=\"http://www.w3.org/2000/svg\" height=\"24px\" viewBox=\"0 -960 960 960\">\n",
              "    <path d=\"M120-120v-720h720v720H120Zm60-500h600v-160H180v160Zm220 220h160v-160H400v160Zm0 220h160v-160H400v160ZM180-400h160v-160H180v160Zm440 0h160v-160H620v160ZM180-180h160v-160H180v160Zm440 0h160v-160H620v160Z\"/>\n",
              "  </svg>\n",
              "    </button>\n",
              "\n",
              "  <style>\n",
              "    .colab-df-container {\n",
              "      display:flex;\n",
              "      gap: 12px;\n",
              "    }\n",
              "\n",
              "    .colab-df-convert {\n",
              "      background-color: #E8F0FE;\n",
              "      border: none;\n",
              "      border-radius: 50%;\n",
              "      cursor: pointer;\n",
              "      display: none;\n",
              "      fill: #1967D2;\n",
              "      height: 32px;\n",
              "      padding: 0 0 0 0;\n",
              "      width: 32px;\n",
              "    }\n",
              "\n",
              "    .colab-df-convert:hover {\n",
              "      background-color: #E2EBFA;\n",
              "      box-shadow: 0px 1px 2px rgba(60, 64, 67, 0.3), 0px 1px 3px 1px rgba(60, 64, 67, 0.15);\n",
              "      fill: #174EA6;\n",
              "    }\n",
              "\n",
              "    .colab-df-buttons div {\n",
              "      margin-bottom: 4px;\n",
              "    }\n",
              "\n",
              "    [theme=dark] .colab-df-convert {\n",
              "      background-color: #3B4455;\n",
              "      fill: #D2E3FC;\n",
              "    }\n",
              "\n",
              "    [theme=dark] .colab-df-convert:hover {\n",
              "      background-color: #434B5C;\n",
              "      box-shadow: 0px 1px 3px 1px rgba(0, 0, 0, 0.15);\n",
              "      filter: drop-shadow(0px 1px 2px rgba(0, 0, 0, 0.3));\n",
              "      fill: #FFFFFF;\n",
              "    }\n",
              "  </style>\n",
              "\n",
              "    <script>\n",
              "      const buttonEl =\n",
              "        document.querySelector('#df-adc1326c-27d8-4f74-a7ea-34a148f37be5 button.colab-df-convert');\n",
              "      buttonEl.style.display =\n",
              "        google.colab.kernel.accessAllowed ? 'block' : 'none';\n",
              "\n",
              "      async function convertToInteractive(key) {\n",
              "        const element = document.querySelector('#df-adc1326c-27d8-4f74-a7ea-34a148f37be5');\n",
              "        const dataTable =\n",
              "          await google.colab.kernel.invokeFunction('convertToInteractive',\n",
              "                                                    [key], {});\n",
              "        if (!dataTable) return;\n",
              "\n",
              "        const docLinkHtml = 'Like what you see? Visit the ' +\n",
              "          '<a target=\"_blank\" href=https://colab.research.google.com/notebooks/data_table.ipynb>data table notebook</a>'\n",
              "          + ' to learn more about interactive tables.';\n",
              "        element.innerHTML = '';\n",
              "        dataTable['output_type'] = 'display_data';\n",
              "        await google.colab.output.renderOutput(dataTable, element);\n",
              "        const docLink = document.createElement('div');\n",
              "        docLink.innerHTML = docLinkHtml;\n",
              "        element.appendChild(docLink);\n",
              "      }\n",
              "    </script>\n",
              "  </div>\n",
              "\n",
              "\n",
              "<div id=\"df-a4a1da9c-c510-46dc-ac4a-e1b9441dfc40\">\n",
              "  <button class=\"colab-df-quickchart\" onclick=\"quickchart('df-a4a1da9c-c510-46dc-ac4a-e1b9441dfc40')\"\n",
              "            title=\"Suggest charts\"\n",
              "            style=\"display:none;\">\n",
              "\n",
              "<svg xmlns=\"http://www.w3.org/2000/svg\" height=\"24px\"viewBox=\"0 0 24 24\"\n",
              "     width=\"24px\">\n",
              "    <g>\n",
              "        <path d=\"M19 3H5c-1.1 0-2 .9-2 2v14c0 1.1.9 2 2 2h14c1.1 0 2-.9 2-2V5c0-1.1-.9-2-2-2zM9 17H7v-7h2v7zm4 0h-2V7h2v10zm4 0h-2v-4h2v4z\"/>\n",
              "    </g>\n",
              "</svg>\n",
              "  </button>\n",
              "\n",
              "<style>\n",
              "  .colab-df-quickchart {\n",
              "      --bg-color: #E8F0FE;\n",
              "      --fill-color: #1967D2;\n",
              "      --hover-bg-color: #E2EBFA;\n",
              "      --hover-fill-color: #174EA6;\n",
              "      --disabled-fill-color: #AAA;\n",
              "      --disabled-bg-color: #DDD;\n",
              "  }\n",
              "\n",
              "  [theme=dark] .colab-df-quickchart {\n",
              "      --bg-color: #3B4455;\n",
              "      --fill-color: #D2E3FC;\n",
              "      --hover-bg-color: #434B5C;\n",
              "      --hover-fill-color: #FFFFFF;\n",
              "      --disabled-bg-color: #3B4455;\n",
              "      --disabled-fill-color: #666;\n",
              "  }\n",
              "\n",
              "  .colab-df-quickchart {\n",
              "    background-color: var(--bg-color);\n",
              "    border: none;\n",
              "    border-radius: 50%;\n",
              "    cursor: pointer;\n",
              "    display: none;\n",
              "    fill: var(--fill-color);\n",
              "    height: 32px;\n",
              "    padding: 0;\n",
              "    width: 32px;\n",
              "  }\n",
              "\n",
              "  .colab-df-quickchart:hover {\n",
              "    background-color: var(--hover-bg-color);\n",
              "    box-shadow: 0 1px 2px rgba(60, 64, 67, 0.3), 0 1px 3px 1px rgba(60, 64, 67, 0.15);\n",
              "    fill: var(--button-hover-fill-color);\n",
              "  }\n",
              "\n",
              "  .colab-df-quickchart-complete:disabled,\n",
              "  .colab-df-quickchart-complete:disabled:hover {\n",
              "    background-color: var(--disabled-bg-color);\n",
              "    fill: var(--disabled-fill-color);\n",
              "    box-shadow: none;\n",
              "  }\n",
              "\n",
              "  .colab-df-spinner {\n",
              "    border: 2px solid var(--fill-color);\n",
              "    border-color: transparent;\n",
              "    border-bottom-color: var(--fill-color);\n",
              "    animation:\n",
              "      spin 1s steps(1) infinite;\n",
              "  }\n",
              "\n",
              "  @keyframes spin {\n",
              "    0% {\n",
              "      border-color: transparent;\n",
              "      border-bottom-color: var(--fill-color);\n",
              "      border-left-color: var(--fill-color);\n",
              "    }\n",
              "    20% {\n",
              "      border-color: transparent;\n",
              "      border-left-color: var(--fill-color);\n",
              "      border-top-color: var(--fill-color);\n",
              "    }\n",
              "    30% {\n",
              "      border-color: transparent;\n",
              "      border-left-color: var(--fill-color);\n",
              "      border-top-color: var(--fill-color);\n",
              "      border-right-color: var(--fill-color);\n",
              "    }\n",
              "    40% {\n",
              "      border-color: transparent;\n",
              "      border-right-color: var(--fill-color);\n",
              "      border-top-color: var(--fill-color);\n",
              "    }\n",
              "    60% {\n",
              "      border-color: transparent;\n",
              "      border-right-color: var(--fill-color);\n",
              "    }\n",
              "    80% {\n",
              "      border-color: transparent;\n",
              "      border-right-color: var(--fill-color);\n",
              "      border-bottom-color: var(--fill-color);\n",
              "    }\n",
              "    90% {\n",
              "      border-color: transparent;\n",
              "      border-bottom-color: var(--fill-color);\n",
              "    }\n",
              "  }\n",
              "</style>\n",
              "\n",
              "  <script>\n",
              "    async function quickchart(key) {\n",
              "      const quickchartButtonEl =\n",
              "        document.querySelector('#' + key + ' button');\n",
              "      quickchartButtonEl.disabled = true;  // To prevent multiple clicks.\n",
              "      quickchartButtonEl.classList.add('colab-df-spinner');\n",
              "      try {\n",
              "        const charts = await google.colab.kernel.invokeFunction(\n",
              "            'suggestCharts', [key], {});\n",
              "      } catch (error) {\n",
              "        console.error('Error during call to suggestCharts:', error);\n",
              "      }\n",
              "      quickchartButtonEl.classList.remove('colab-df-spinner');\n",
              "      quickchartButtonEl.classList.add('colab-df-quickchart-complete');\n",
              "    }\n",
              "    (() => {\n",
              "      let quickchartButtonEl =\n",
              "        document.querySelector('#df-a4a1da9c-c510-46dc-ac4a-e1b9441dfc40 button');\n",
              "      quickchartButtonEl.style.display =\n",
              "        google.colab.kernel.accessAllowed ? 'block' : 'none';\n",
              "    })();\n",
              "  </script>\n",
              "</div>\n",
              "    </div>\n",
              "  </div>\n"
            ],
            "application/vnd.google.colaboratory.intrinsic+json": {
              "type": "dataframe",
              "variable_name": "df1"
            }
          },
          "metadata": {},
          "execution_count": 117
        }
      ],
      "source": [
        "filtered_df = df1[(df1['Job'] == 'Operation') & (df1['IsDeleted'] == 0) & (df1['ValueType'] == 1)]\n",
        "df1 = filtered_df.drop(columns=['PersonelID', 'MobileID', 'Job', 'IsDeleted','OutofRange','ValueType','UnitID','OnTime'])\n",
        "df1.head()"
      ]
    },
    {
      "cell_type": "code",
      "execution_count": 118,
      "metadata": {
        "colab": {
          "base_uri": "https://localhost:8080/"
        },
        "id": "kfeeST4f-fSA",
        "outputId": "255356f8-fa5c-4481-f9b4-d08a81bc54c4"
      },
      "outputs": [
        {
          "output_type": "stream",
          "name": "stdout",
          "text": [
            "Number of rows: 1660218\n"
          ]
        }
      ],
      "source": [
        "number_of_rows = df1.shape[0]\n",
        "print(\"Number of rows:\", number_of_rows)"
      ]
    },
    {
      "cell_type": "code",
      "execution_count": 119,
      "metadata": {
        "id": "f0Yf4Q3B-fSB"
      },
      "outputs": [],
      "source": [
        "df2 = pd.read_csv(path2)"
      ]
    },
    {
      "cell_type": "code",
      "execution_count": 120,
      "metadata": {
        "id": "ROXzwtBK-fSB"
      },
      "outputs": [],
      "source": [
        "merged = pd.merge(df1, df2, on='AssetID', how='inner')\n",
        "unique_asset_descriptions = merged.drop_duplicates(subset='AssetID')"
      ]
    },
    {
      "cell_type": "code",
      "execution_count": 121,
      "metadata": {
        "id": "OV_GT2no-fSB"
      },
      "outputs": [],
      "source": [
        "# Merge df1 and df2 on AssetId\n",
        "merged_df = pd.merge(df1, df2, on='AssetID')\n",
        "\n",
        "# Drop the AssetId column\n",
        "result_df = merged_df.drop(columns=['KKS','MeasurementUnit','StartTime','DateTime','Version','Type',\n",
        "                                    'AssetRange','ShowCondition','SequenceShow','Activation','AssetTag','ActiveTimeTag','ActivationTag','IsDeleted',\n",
        "                                    'EditTime','RangeLL','RangeHH','RangeBol1','RangeBol2','RangeBol3','RangeBol4','NumType','Conditions','LTShort'])"
      ]
    },
    {
      "cell_type": "code",
      "execution_count": 122,
      "metadata": {
        "colab": {
          "base_uri": "https://localhost:8080/",
          "height": 490
        },
        "id": "TxzOUrzX-fSC",
        "outputId": "63355134-0961-48bc-fcb1-d7d3634d90f7"
      },
      "outputs": [
        {
          "output_type": "execute_result",
          "data": {
            "text/plain": [
              "AssetID\n",
              "8341     1236\n",
              "8344     1236\n",
              "8346     1235\n",
              "9287     1235\n",
              "9286     1235\n",
              "         ... \n",
              "9328       69\n",
              "9327       69\n",
              "9325       69\n",
              "9324       69\n",
              "12950      48\n",
              "Name: count, Length: 164, dtype: int64"
            ],
            "text/html": [
              "<div>\n",
              "<style scoped>\n",
              "    .dataframe tbody tr th:only-of-type {\n",
              "        vertical-align: middle;\n",
              "    }\n",
              "\n",
              "    .dataframe tbody tr th {\n",
              "        vertical-align: top;\n",
              "    }\n",
              "\n",
              "    .dataframe thead th {\n",
              "        text-align: right;\n",
              "    }\n",
              "</style>\n",
              "<table border=\"1\" class=\"dataframe\">\n",
              "  <thead>\n",
              "    <tr style=\"text-align: right;\">\n",
              "      <th></th>\n",
              "      <th>count</th>\n",
              "    </tr>\n",
              "    <tr>\n",
              "      <th>AssetID</th>\n",
              "      <th></th>\n",
              "    </tr>\n",
              "  </thead>\n",
              "  <tbody>\n",
              "    <tr>\n",
              "      <th>8341</th>\n",
              "      <td>1236</td>\n",
              "    </tr>\n",
              "    <tr>\n",
              "      <th>8344</th>\n",
              "      <td>1236</td>\n",
              "    </tr>\n",
              "    <tr>\n",
              "      <th>8346</th>\n",
              "      <td>1235</td>\n",
              "    </tr>\n",
              "    <tr>\n",
              "      <th>9287</th>\n",
              "      <td>1235</td>\n",
              "    </tr>\n",
              "    <tr>\n",
              "      <th>9286</th>\n",
              "      <td>1235</td>\n",
              "    </tr>\n",
              "    <tr>\n",
              "      <th>...</th>\n",
              "      <td>...</td>\n",
              "    </tr>\n",
              "    <tr>\n",
              "      <th>9328</th>\n",
              "      <td>69</td>\n",
              "    </tr>\n",
              "    <tr>\n",
              "      <th>9327</th>\n",
              "      <td>69</td>\n",
              "    </tr>\n",
              "    <tr>\n",
              "      <th>9325</th>\n",
              "      <td>69</td>\n",
              "    </tr>\n",
              "    <tr>\n",
              "      <th>9324</th>\n",
              "      <td>69</td>\n",
              "    </tr>\n",
              "    <tr>\n",
              "      <th>12950</th>\n",
              "      <td>48</td>\n",
              "    </tr>\n",
              "  </tbody>\n",
              "</table>\n",
              "<p>164 rows × 1 columns</p>\n",
              "</div><br><label><b>dtype:</b> int64</label>"
            ]
          },
          "metadata": {},
          "execution_count": 122
        }
      ],
      "source": [
        "# AssetIDs to check\n",
        "asset_ids_to_check = [8330,8331,8332,8333,8335,8338,8339]\n",
        "# Filter the DataFrame to include only the specified AssetIDs\n",
        "filtered_df = result_df[result_df['AssetID'].isin(asset_ids_to_check)]\n",
        "\n",
        "# Initialize a list to keep track of valid ShiftCodes\n",
        "valid_shiftcodes = []\n",
        "\n",
        "# Iterate through each ShiftCode and check the count of each AssetID\n",
        "for shift_code in filtered_df['ShiftCode'].unique():\n",
        "    shift_code_df = filtered_df[filtered_df['ShiftCode'] == shift_code]\n",
        "    asset_count = shift_code_df['AssetID'].value_counts()\n",
        "\n",
        "    if all(asset_count == 4):\n",
        "        valid_shiftcodes.append(shift_code)\n",
        "\n",
        "# Filter the original DataFrame to keep only the rows with valid ShiftCodes\n",
        "result_df = result_df[result_df['ShiftCode'].isin(valid_shiftcodes)]\n",
        "result_df['AssetID'].value_counts()"
      ]
    },
    {
      "cell_type": "code",
      "execution_count": 123,
      "metadata": {
        "id": "WhkBhCVI-fSD"
      },
      "outputs": [],
      "source": [
        "def df_preparing(asset_id1,asset_id2,asset_id3,asset_id4,asset_id5,asset_id6,asset_id7,date1,date2):\n",
        "    # Filter the DataFrame for the given AssetID\n",
        "    filtered_df1 = result_df[result_df['AssetID'] == asset_id1]\n",
        "    filtered_df2 = result_df[result_df['AssetID'] == asset_id2]\n",
        "    filtered_df3 = result_df[result_df['AssetID'] == asset_id3]\n",
        "    filtered_df4 = result_df[result_df['AssetID'] == asset_id4]\n",
        "    filtered_df5 = result_df[result_df['AssetID'] == asset_id5]\n",
        "    filtered_df6 = result_df[result_df['AssetID'] == asset_id6]\n",
        "    filtered_df7 = result_df[result_df['AssetID'] == asset_id7]\n",
        "\n",
        "\n",
        "    # Combine RecordDate and RecordTime into a single datetime column\n",
        "    filtered_df1['DateTime'] = pd.to_datetime(filtered_df1['RecordDate'] + ' ' + filtered_df1['RecordTime'])\n",
        "    filtered_df2['DateTime'] = pd.to_datetime(filtered_df2['RecordDate'] + ' ' + filtered_df2['RecordTime'])\n",
        "    filtered_df3['DateTime'] = pd.to_datetime(filtered_df3['RecordDate'] + ' ' + filtered_df3['RecordTime'])\n",
        "    filtered_df4['DateTime'] = pd.to_datetime(filtered_df4['RecordDate'] + ' ' + filtered_df4['RecordTime'])\n",
        "    filtered_df5['DateTime'] = pd.to_datetime(filtered_df5['RecordDate'] + ' ' + filtered_df5['RecordTime'])\n",
        "    filtered_df6['DateTime'] = pd.to_datetime(filtered_df6['RecordDate'] + ' ' + filtered_df6['RecordTime'])\n",
        "    filtered_df7['DateTime'] = pd.to_datetime(filtered_df7['RecordDate'] + ' ' + filtered_df7['RecordTime'])\n",
        "\n",
        "\n",
        "    # Sort the DataFrame by DateTime\n",
        "    filtered_df1 = filtered_df1.sort_values(by='DateTime')\n",
        "    filtered_df2 = filtered_df2.sort_values(by='DateTime')\n",
        "    filtered_df3 = filtered_df3.sort_values(by='DateTime')\n",
        "    filtered_df4 = filtered_df4.sort_values(by='DateTime')\n",
        "    filtered_df5 = filtered_df5.sort_values(by='DateTime')\n",
        "    filtered_df6 = filtered_df6.sort_values(by='DateTime')\n",
        "    filtered_df7 = filtered_df7.sort_values(by='DateTime')\n",
        "\n",
        "\n",
        "    # Filter the DataFrame for the first month of 2022\n",
        "    lube_oil_df1 = filtered_df1[(filtered_df1['DateTime'] >= date1) & (filtered_df1['DateTime'] <= date2)]\n",
        "    lube_oil_df2 = filtered_df2[(filtered_df2['DateTime'] >= date1) & (filtered_df2['DateTime'] <= date2)]\n",
        "    lube_oil_df3 = filtered_df3[(filtered_df3['DateTime'] >= date1) & (filtered_df3['DateTime'] <= date2)]\n",
        "    lube_oil_df4 = filtered_df4[(filtered_df4['DateTime'] >= date1) & (filtered_df4['DateTime'] <= date2)]\n",
        "    lube_oil_df5 = filtered_df5[(filtered_df5['DateTime'] >= date1) & (filtered_df5['DateTime'] <= date2)]\n",
        "    lube_oil_df6 = filtered_df6[(filtered_df6['DateTime'] >= date1) & (filtered_df6['DateTime'] <= date2)]\n",
        "    lube_oil_df7 = filtered_df7[(filtered_df7['DateTime'] >= date1) & (filtered_df7['DateTime'] <= date2)]\n",
        "\n",
        "\n",
        "    # Display the DataFrame as HTML\n",
        "    number_of_rows1 = lube_oil_df1.shape[0]\n",
        "    number_of_rows2 = lube_oil_df2.shape[0]\n",
        "    number_of_rows3 = lube_oil_df3.shape[0]\n",
        "    number_of_rows4 = lube_oil_df4.shape[0]\n",
        "    number_of_rows5 = lube_oil_df5.shape[0]\n",
        "    number_of_rows6 = lube_oil_df6.shape[0]\n",
        "    number_of_rows7 = lube_oil_df7.shape[0]\n",
        "\n",
        "\n",
        "    lube_oil_df1.dropna(subset=['Value'])\n",
        "    lube_oil_df2.dropna(subset=['Value'])\n",
        "    lube_oil_df3.dropna(subset=['Value'])\n",
        "    lube_oil_df4.dropna(subset=['Value'])\n",
        "    lube_oil_df5.dropna(subset=['Value'])\n",
        "    lube_oil_df6.dropna(subset=['Value'])\n",
        "    lube_oil_df7.dropna(subset=['Value'])\n",
        "\n",
        "\n",
        "    print(\"Number of rows1:\", number_of_rows1)\n",
        "    print(\"Number of rows2:\", number_of_rows2)\n",
        "    print(\"Number of rows3:\", number_of_rows3)\n",
        "    print(\"Number of rows4:\", number_of_rows4)\n",
        "    print(\"Number of rows5:\", number_of_rows5)\n",
        "    print(\"Number of rows6:\", number_of_rows6)\n",
        "    print(\"Number of rows7:\", number_of_rows7)\n",
        "\n",
        "\n",
        "    # Ensure both DataFrames are properly indexed\n",
        "    df1 = lube_oil_df1.reset_index(drop=True)\n",
        "    df2 = lube_oil_df2.reset_index(drop=True)\n",
        "    df3 = lube_oil_df3.reset_index(drop=True)\n",
        "    df4 = lube_oil_df4.reset_index(drop=True)\n",
        "    df5 = lube_oil_df5.reset_index(drop=True)\n",
        "    df6 = lube_oil_df6.reset_index(drop=True)\n",
        "    df7 = lube_oil_df7.reset_index(drop=True)\n",
        "\n",
        "\n",
        "    # Create a new DataFrame by concatenating the 'Value' columns from each DataFrame\n",
        "    combined_df = pd.concat([df1['Value'],\n",
        "                             df2['Value'],\n",
        "                             df3['Value'],\n",
        "                             df4['Value'],\n",
        "                             df5['Value'],\n",
        "                             df6['Value'],\n",
        "                             df7['Value']], axis=1)\n",
        "    print(\"Number of concat rows:\", combined_df.shape[0])\n",
        "    # Rename the columns\n",
        "    combined_df.columns = ['GEN.INLET AIR TEMP.',\n",
        "                           'GEN.OUTLET AIR TEMP.',\n",
        "                           'C.W.INLET TEMP.',\n",
        "                           'C.W. OUTLET TEMP.',\n",
        "                           'C.W PUMP OUT LET PRESS',\n",
        "                           'C.W.INLET PRESSUR',\n",
        "                           'C.W OUT LET PRESS']\n",
        "\n",
        "\n",
        "\n",
        "    return combined_df"
      ]
    },
    {
      "cell_type": "code",
      "execution_count": 124,
      "metadata": {
        "colab": {
          "base_uri": "https://localhost:8080/"
        },
        "id": "7ZlAitgz-fSD",
        "outputId": "22998467-33d1-485b-e02e-67743d38b7b8"
      },
      "outputs": [
        {
          "output_type": "stream",
          "name": "stdout",
          "text": [
            "Number of rows1: 1132\n",
            "Number of rows2: 1132\n",
            "Number of rows3: 1132\n",
            "Number of rows4: 1132\n",
            "Number of rows5: 1132\n",
            "Number of rows6: 1132\n",
            "Number of rows7: 1132\n",
            "Number of concat rows: 1132\n"
          ]
        }
      ],
      "source": [
        "df = df_preparing(8330,8331,8332,8333,8335,8338,8339,'2021-01-01','2025-01-10')\n",
        "# Convert specific columns to numeric\n",
        "df['GEN.INLET AIR TEMP.'] = pd.to_numeric(df['GEN.INLET AIR TEMP.'])\n",
        "df['GEN.OUTLET AIR TEMP.'] = pd.to_numeric(df['GEN.OUTLET AIR TEMP.'])\n",
        "df['C.W.INLET TEMP.'] = pd.to_numeric(df['C.W.INLET TEMP.'])\n",
        "df['C.W. OUTLET TEMP.'] = pd.to_numeric(df['C.W. OUTLET TEMP.'])\n",
        "df['C.W PUMP OUT LET PRESS'] = pd.to_numeric(df['C.W PUMP OUT LET PRESS'])\n",
        "df['C.W.INLET PRESSUR'] = pd.to_numeric(df['C.W.INLET PRESSUR'])\n",
        "df['C.W OUT LET PRESS'] = pd.to_numeric(df['C.W OUT LET PRESS'])\n"
      ]
    },
    {
      "cell_type": "code",
      "execution_count": 125,
      "metadata": {
        "id": "O7hocaJzSCPL"
      },
      "outputs": [],
      "source": [
        "# Standardize the data\n",
        "scaler = StandardScaler()\n",
        "scaled_data = scaler.fit_transform(df)"
      ]
    },
    {
      "cell_type": "code",
      "execution_count": 126,
      "metadata": {
        "colab": {
          "base_uri": "https://localhost:8080/",
          "height": 589,
          "referenced_widgets": [
            "b058b0e9d183431aa2d1a34b9c8952f0",
            "7800bb6a1ba443488498121c5f45f772",
            "7cc229db0c2a46e3810e52bcfc236b8a",
            "7307d3c16daf480b867678a198d88a4f",
            "3a54dcaae2ae441b90e86f0a9f112e94",
            "985e2e27a112485c8a91c1ed2ac17b98",
            "675c928dabf24557be818f57c07ad349",
            "ad88414445bc4e9e881a86e71cebbee1",
            "645d91c4157840699d2c83593ea10c23",
            "4415123119aa47d0b15f42f143fe653a",
            "a805a4b94a9e4186be59ae8bf7c00482"
          ]
        },
        "id": "H7_5TQpuSCPM",
        "outputId": "0cad0f3e-6040-41d4-90ed-34ace1befac7"
      },
      "outputs": [
        {
          "output_type": "display_data",
          "data": {
            "text/plain": [
              "<pandas.io.formats.style.Styler at 0x7f1feb053890>"
            ],
            "text/html": [
              "<style type=\"text/css\">\n",
              "#T_b83a1_row4_col1, #T_b83a1_row8_col1 {\n",
              "  background-color: lightgreen;\n",
              "}\n",
              "</style>\n",
              "<table id=\"T_b83a1\" class=\"dataframe\">\n",
              "  <thead>\n",
              "    <tr>\n",
              "      <th class=\"blank level0\" >&nbsp;</th>\n",
              "      <th id=\"T_b83a1_level0_col0\" class=\"col_heading level0 col0\" >Description</th>\n",
              "      <th id=\"T_b83a1_level0_col1\" class=\"col_heading level0 col1\" >Value</th>\n",
              "    </tr>\n",
              "  </thead>\n",
              "  <tbody>\n",
              "    <tr>\n",
              "      <th id=\"T_b83a1_level0_row0\" class=\"row_heading level0 row0\" >0</th>\n",
              "      <td id=\"T_b83a1_row0_col0\" class=\"data row0 col0\" >Session id</td>\n",
              "      <td id=\"T_b83a1_row0_col1\" class=\"data row0 col1\" >42</td>\n",
              "    </tr>\n",
              "    <tr>\n",
              "      <th id=\"T_b83a1_level0_row1\" class=\"row_heading level0 row1\" >1</th>\n",
              "      <td id=\"T_b83a1_row1_col0\" class=\"data row1 col0\" >Original data shape</td>\n",
              "      <td id=\"T_b83a1_row1_col1\" class=\"data row1 col1\" >(1132, 7)</td>\n",
              "    </tr>\n",
              "    <tr>\n",
              "      <th id=\"T_b83a1_level0_row2\" class=\"row_heading level0 row2\" >2</th>\n",
              "      <td id=\"T_b83a1_row2_col0\" class=\"data row2 col0\" >Transformed data shape</td>\n",
              "      <td id=\"T_b83a1_row2_col1\" class=\"data row2 col1\" >(1132, 7)</td>\n",
              "    </tr>\n",
              "    <tr>\n",
              "      <th id=\"T_b83a1_level0_row3\" class=\"row_heading level0 row3\" >3</th>\n",
              "      <td id=\"T_b83a1_row3_col0\" class=\"data row3 col0\" >Numeric features</td>\n",
              "      <td id=\"T_b83a1_row3_col1\" class=\"data row3 col1\" >7</td>\n",
              "    </tr>\n",
              "    <tr>\n",
              "      <th id=\"T_b83a1_level0_row4\" class=\"row_heading level0 row4\" >4</th>\n",
              "      <td id=\"T_b83a1_row4_col0\" class=\"data row4 col0\" >Preprocess</td>\n",
              "      <td id=\"T_b83a1_row4_col1\" class=\"data row4 col1\" >True</td>\n",
              "    </tr>\n",
              "    <tr>\n",
              "      <th id=\"T_b83a1_level0_row5\" class=\"row_heading level0 row5\" >5</th>\n",
              "      <td id=\"T_b83a1_row5_col0\" class=\"data row5 col0\" >Imputation type</td>\n",
              "      <td id=\"T_b83a1_row5_col1\" class=\"data row5 col1\" >simple</td>\n",
              "    </tr>\n",
              "    <tr>\n",
              "      <th id=\"T_b83a1_level0_row6\" class=\"row_heading level0 row6\" >6</th>\n",
              "      <td id=\"T_b83a1_row6_col0\" class=\"data row6 col0\" >Numeric imputation</td>\n",
              "      <td id=\"T_b83a1_row6_col1\" class=\"data row6 col1\" >mean</td>\n",
              "    </tr>\n",
              "    <tr>\n",
              "      <th id=\"T_b83a1_level0_row7\" class=\"row_heading level0 row7\" >7</th>\n",
              "      <td id=\"T_b83a1_row7_col0\" class=\"data row7 col0\" >Categorical imputation</td>\n",
              "      <td id=\"T_b83a1_row7_col1\" class=\"data row7 col1\" >mode</td>\n",
              "    </tr>\n",
              "    <tr>\n",
              "      <th id=\"T_b83a1_level0_row8\" class=\"row_heading level0 row8\" >8</th>\n",
              "      <td id=\"T_b83a1_row8_col0\" class=\"data row8 col0\" >Normalize</td>\n",
              "      <td id=\"T_b83a1_row8_col1\" class=\"data row8 col1\" >True</td>\n",
              "    </tr>\n",
              "    <tr>\n",
              "      <th id=\"T_b83a1_level0_row9\" class=\"row_heading level0 row9\" >9</th>\n",
              "      <td id=\"T_b83a1_row9_col0\" class=\"data row9 col0\" >Normalize method</td>\n",
              "      <td id=\"T_b83a1_row9_col1\" class=\"data row9 col1\" >zscore</td>\n",
              "    </tr>\n",
              "    <tr>\n",
              "      <th id=\"T_b83a1_level0_row10\" class=\"row_heading level0 row10\" >10</th>\n",
              "      <td id=\"T_b83a1_row10_col0\" class=\"data row10 col0\" >CPU Jobs</td>\n",
              "      <td id=\"T_b83a1_row10_col1\" class=\"data row10 col1\" >-1</td>\n",
              "    </tr>\n",
              "    <tr>\n",
              "      <th id=\"T_b83a1_level0_row11\" class=\"row_heading level0 row11\" >11</th>\n",
              "      <td id=\"T_b83a1_row11_col0\" class=\"data row11 col0\" >Use GPU</td>\n",
              "      <td id=\"T_b83a1_row11_col1\" class=\"data row11 col1\" >False</td>\n",
              "    </tr>\n",
              "    <tr>\n",
              "      <th id=\"T_b83a1_level0_row12\" class=\"row_heading level0 row12\" >12</th>\n",
              "      <td id=\"T_b83a1_row12_col0\" class=\"data row12 col0\" >Log Experiment</td>\n",
              "      <td id=\"T_b83a1_row12_col1\" class=\"data row12 col1\" >False</td>\n",
              "    </tr>\n",
              "    <tr>\n",
              "      <th id=\"T_b83a1_level0_row13\" class=\"row_heading level0 row13\" >13</th>\n",
              "      <td id=\"T_b83a1_row13_col0\" class=\"data row13 col0\" >Experiment Name</td>\n",
              "      <td id=\"T_b83a1_row13_col1\" class=\"data row13 col1\" >anomaly-default-name</td>\n",
              "    </tr>\n",
              "    <tr>\n",
              "      <th id=\"T_b83a1_level0_row14\" class=\"row_heading level0 row14\" >14</th>\n",
              "      <td id=\"T_b83a1_row14_col0\" class=\"data row14 col0\" >USI</td>\n",
              "      <td id=\"T_b83a1_row14_col1\" class=\"data row14 col1\" >9959</td>\n",
              "    </tr>\n",
              "  </tbody>\n",
              "</table>\n"
            ]
          },
          "metadata": {}
        },
        {
          "output_type": "display_data",
          "data": {
            "text/plain": [
              "<IPython.core.display.HTML object>"
            ],
            "text/html": []
          },
          "metadata": {}
        },
        {
          "output_type": "display_data",
          "data": {
            "text/plain": [
              "<IPython.core.display.HTML object>"
            ],
            "text/html": []
          },
          "metadata": {}
        },
        {
          "output_type": "display_data",
          "data": {
            "text/plain": [
              "Processing:   0%|          | 0/3 [00:00<?, ?it/s]"
            ],
            "application/vnd.jupyter.widget-view+json": {
              "version_major": 2,
              "version_minor": 0,
              "model_id": "b058b0e9d183431aa2d1a34b9c8952f0"
            }
          },
          "metadata": {
            "application/vnd.jupyter.widget-view+json": {
              "colab": {
                "custom_widget_manager": {
                  "url": "https://ssl.gstatic.com/colaboratory-static/widgets/colab-cdn-widget-manager/2b70e893a8ba7c0f/manager.min.js"
                }
              }
            }
          }
        },
        {
          "output_type": "display_data",
          "data": {
            "text/plain": [
              "<IPython.core.display.HTML object>"
            ],
            "text/html": []
          },
          "metadata": {}
        },
        {
          "output_type": "stream",
          "name": "stdout",
          "text": [
            "Anomaly\n",
            "0    1075\n",
            "1      57\n",
            "Name: count, dtype: int64\n"
          ]
        }
      ],
      "source": [
        "from pycaret.anomaly import setup, create_model, assign_model\n",
        "import pandas as pd\n",
        "\n",
        "# Load and preprocess your dataset\n",
        "scaled_df = pd.DataFrame(scaled_data, columns=df.columns)  # Use standardized data\n",
        "\n",
        "# Set up the PyCaret environment\n",
        "anomaly_setup = setup(data=scaled_df, normalize=True, session_id=42)\n",
        "\n",
        "# Create an unsupervised anomaly detection model\n",
        "model = create_model('iforest')  # You can replace 'iforest' with other options like 'knn', 'abod', etc.\n",
        "\n",
        "# Assign clusters (inliers and outliers) to the dataset\n",
        "results = assign_model(model)\n",
        "print(results['Anomaly'].value_counts())\n"
      ]
    },
    {
      "cell_type": "code",
      "execution_count": 128,
      "metadata": {
        "id": "29CWsqQWSCPN"
      },
      "outputs": [],
      "source": [
        "# # Sample one data point from each cluster\n",
        "# sample_data_points = []\n",
        "\n",
        "# for cluster_label in sorted(df['Cluster'].unique()):\n",
        "#     sample_point = df[df['Cluster'] == cluster_label].iloc[0]  # Select the first data point from each cluster\n",
        "#     sample_data_points.append(sample_point)\n",
        "\n",
        "# # Convert the list of sample data points to a DataFrame for better visualization\n",
        "# sample_data_df = pd.DataFrame(sample_data_points)\n",
        "\n",
        "# # Display the sample data points for each cluster\n",
        "# print(sample_data_df)"
      ]
    },
    {
      "cell_type": "code",
      "execution_count": 129,
      "metadata": {
        "colab": {
          "base_uri": "https://localhost:8080/"
        },
        "id": "iVfCWj60SCPO",
        "outputId": "ac2bcb34-931d-47ff-f8e0-0109cc199bfc"
      },
      "outputs": [
        {
          "output_type": "stream",
          "name": "stdout",
          "text": [
            "The predicted cluster for the sample data point is: 1\n"
          ]
        }
      ],
      "source": [
        "# Sample data point\n",
        "sample_data = pd.DataFrame([{\n",
        "    'GEN.INLET AIR TEMP.':40,\n",
        "    'GEN.OUTLET AIR TEMP.':69,\n",
        "    'C.W.INLET TEMP.':37,\n",
        "    'C.W. OUTLET TEMP.':43,\n",
        "    'C.W PUMP OUT LET PRESS':4.9,\n",
        "    'C.W.INLET PRESSUR':4,\n",
        "    'C.W OUT LET PRESS':4.2}])\n",
        "\n",
        "# Scale the sample data point\n",
        "scaled_sample_data = scaler.transform(sample_data)\n",
        "\n",
        "# Use Nearest Neighbors to find the closest cluster\n",
        "nearest_neighbors = NearestNeighbors(n_neighbors=1)\n",
        "nearest_neighbors.fit(scaled_data)  # Fit on the training data\n",
        "# Find the nearest cluster for the sample data point\n",
        "_, indices = nearest_neighbors.kneighbors(scaled_sample_data)\n",
        "predicted_cluster = clusters[indices[0][0]]\n",
        "\n",
        "print(f'The predicted cluster for the sample data point is: {predicted_cluster}')"
      ]
    },
    {
      "cell_type": "code",
      "execution_count": 130,
      "metadata": {
        "colab": {
          "base_uri": "https://localhost:8080/",
          "height": 331
        },
        "id": "nnWeKGgrSCPP",
        "outputId": "5d5e5efd-96dc-4d66-d77c-b1b8cf6093e8"
      },
      "outputs": [
        {
          "output_type": "display_data",
          "data": {
            "text/plain": [
              "<Figure size 500x300 with 1 Axes>"
            ],
            "image/png": "[encoded data removed]"
          },
          "metadata": {}
        }
      ],
      "source": [
        "# Reduce dimensions to 2D using PCA\n",
        "pca = PCA(n_components=2)\n",
        "data_2d = pca.fit_transform(scaled_data)\n",
        "\n",
        "# Plot the data points with cluster labels\n",
        "plt.figure(figsize=(5, 3))\n",
        "for i in range(cluster_no):\n",
        "    plt.scatter(data_2d[clusters == i, 0], data_2d[clusters == i, 1], label=f'Cluster {i+1}')\n",
        "plt.title('2D Visualization of Clusters')\n",
        "plt.xlabel('PCA Component 1')\n",
        "plt.ylabel('PCA Component 2')\n",
        "plt.legend()\n",
        "plt.show()"
      ]
    },
    {
      "cell_type": "code",
      "execution_count": 131,
      "metadata": {
        "colab": {
          "base_uri": "https://localhost:8080/",
          "height": 366
        },
        "id": "ziTwpkN6SCPQ",
        "outputId": "91a321e6-c3f2-4cbe-8b65-aa01dc2500be"
      },
      "outputs": [
        {
          "output_type": "stream",
          "name": "stdout",
          "text": [
            "Average Silhouette Score: 0.6096527497132993\n"
          ]
        },
        {
          "output_type": "display_data",
          "data": {
            "text/plain": [
              "<Figure size 500x300 with 1 Axes>"
            ],
            "image/png": "[encoded data removed]"
          },
          "metadata": {}
        },
        {
          "output_type": "display_data",
          "data": {
            "text/plain": [
              "<Figure size 400x300 with 0 Axes>"
            ]
          },
          "metadata": {}
        }
      ],
      "source": [
        "# Number of clusters for KMeans\n",
        "n_clusters = cluster_no\n",
        "# Add cluster labels to the original DataFrame\n",
        "df['Cluster'] = clusters\n",
        "# Count the number of data points in each cluster\n",
        "cluster_counts = df['Cluster'].value_counts().sort_index()\n",
        "\n",
        "# Calculate the Silhouette Score\n",
        "silhouette_avg = silhouette_score(scaled_data, clusters)\n",
        "print(f\"Average Silhouette Score: {silhouette_avg}\")\n",
        "\n",
        "# Calculate the Silhouette Coefficients for each sample\n",
        "sample_silhouette_values = silhouette_samples(scaled_data, clusters)\n",
        "\n",
        "# Create the Silhouette Plot\n",
        "fig, ax1 = plt.subplots(1, 1)\n",
        "fig.set_size_inches(5, 3)\n",
        "\n",
        "# Set limits for the plot\n",
        "ax1.set_xlim([-0.1, 1])\n",
        "ax1.set_ylim([0, len(scaled_data) + (n_clusters + 1) * 10])\n",
        "\n",
        "# Initialize the y-axis position\n",
        "y_lower = 10\n",
        "\n",
        "for i in range(n_clusters):\n",
        "    # Aggregate silhouette scores for samples in cluster i\n",
        "    ith_cluster_silhouette_values = sample_silhouette_values[clusters == i]\n",
        "    ith_cluster_silhouette_values.sort()\n",
        "\n",
        "    size_cluster_i = ith_cluster_silhouette_values.shape[0]\n",
        "    y_upper = y_lower + size_cluster_i\n",
        "\n",
        "    color = cm.nipy_spectral(float(i) / n_clusters)\n",
        "    ax1.fill_betweenx(np.arange(y_lower, y_upper), 0, ith_cluster_silhouette_values, facecolor=color, edgecolor=color, alpha=0.7)\n",
        "\n",
        "    # Label the silhouette plots with their cluster numbers\n",
        "    ax1.text(-0.05, y_lower + 0.5 * size_cluster_i, str(i))\n",
        "\n",
        "    # Compute the new y_lower for next plot\n",
        "    y_lower = y_upper + 10\n",
        "\n",
        "# Plot the average silhouette score as a vertical line\n",
        "plt.figure(figsize=(4, 3))\n",
        "ax1.axvline(x=silhouette_avg, color=\"red\", linestyle=\"--\")\n",
        "ax1.set_title(\"Silhouette Plot for the Clusters\")\n",
        "ax1.set_xlabel(\"Silhouette Coefficient\")\n",
        "ax1.set_ylabel(\"Cluster Label\")\n",
        "plt.show()"
      ]
    },
    {
      "cell_type": "code",
      "execution_count": 132,
      "metadata": {
        "id": "JLreGf7ySCPR"
      },
      "outputs": [],
      "source": [
        "# joblib.dump(clusters, 'clusters_blade_gaussian.joblib')\n",
        "# joblib.dump(gmm, 'model_blade_gaussian.joblib')\n",
        "# joblib.dump(scaler, 'scaler_blade_gaussian.joblib')\n",
        "# joblib.dump(nearest_neighbors, 'model2_blade_gaussian.joblib')\n"
      ]
    }
  ],
  "metadata": {
    "colab": {
      "provenance": [],
      "include_colab_link": true
    },
    "kernelspec": {
      "display_name": "test2",
      "language": "python",
      "name": "python3"
    },
    "language_info": {
      "codemirror_mode": {
        "name": "ipython",
        "version": 3
      },
      "file_extension": ".py",
      "mimetype": "text/x-python",
      "name": "python",
      "nbconvert_exporter": "python",
      "pygments_lexer": "ipython3",
      "version": "3.12.3"
    },
    "widgets": {
      "application/vnd.jupyter.widget-state+json": {
        "b058b0e9d183431aa2d1a34b9c8952f0": {
          "model_module": "@jupyter-widgets/controls",
          "model_name": "HBoxModel",
          "model_module_version": "1.5.0",
          "state": {
            "_dom_classes": [],
            "_model_module": "@jupyter-widgets/controls",
            "_model_module_version": "1.5.0",
            "_model_name": "HBoxModel",
            "_view_count": null,
            "_view_module": "@jupyter-widgets/controls",
            "_view_module_version": "1.5.0",
            "_view_name": "HBoxView",
            "box_style": "",
            "children": [
              "IPY_MODEL_7800bb6a1ba443488498121c5f45f772",
              "IPY_MODEL_7cc229db0c2a46e3810e52bcfc236b8a",
              "IPY_MODEL_7307d3c16daf480b867678a198d88a4f"
            ],
            "layout": "IPY_MODEL_3a54dcaae2ae441b90e86f0a9f112e94"
          }
        },
        "7800bb6a1ba443488498121c5f45f772": {
          "model_module": "@jupyter-widgets/controls",
          "model_name": "HTMLModel",
          "model_module_version": "1.5.0",
          "state": {
            "_dom_classes": [],
            "_model_module": "@jupyter-widgets/controls",
            "_model_module_version": "1.5.0",
            "_model_name": "HTMLModel",
            "_view_count": null,
            "_view_module": "@jupyter-widgets/controls",
            "_view_module_version": "1.5.0",
            "_view_name": "HTMLView",
            "description": "",
            "description_tooltip": null,
            "layout": "IPY_MODEL_985e2e27a112485c8a91c1ed2ac17b98",
            "placeholder": "​",
            "style": "IPY_MODEL_675c928dabf24557be818f57c07ad349",
            "value": "Processing:   0%"
          }
        },
        "7cc229db0c2a46e3810e52bcfc236b8a": {
          "model_module": "@jupyter-widgets/controls",
          "model_name": "FloatProgressModel",
          "model_module_version": "1.5.0",
          "state": {
            "_dom_classes": [],
            "_model_module": "@jupyter-widgets/controls",
            "_model_module_version": "1.5.0",
            "_model_name": "FloatProgressModel",
            "_view_count": null,
            "_view_module": "@jupyter-widgets/controls",
            "_view_module_version": "1.5.0",
            "_view_name": "ProgressView",
            "bar_style": "",
            "description": "",
            "description_tooltip": null,
            "layout": "IPY_MODEL_ad88414445bc4e9e881a86e71cebbee1",
            "max": 3,
            "min": 0,
            "orientation": "horizontal",
            "style": "IPY_MODEL_645d91c4157840699d2c83593ea10c23",
            "value": 3
          }
        },
        "7307d3c16daf480b867678a198d88a4f": {
          "model_module": "@jupyter-widgets/controls",
          "model_name": "HTMLModel",
          "model_module_version": "1.5.0",
          "state": {
            "_dom_classes": [],
            "_model_module": "@jupyter-widgets/controls",
            "_model_module_version": "1.5.0",
            "_model_name": "HTMLModel",
            "_view_count": null,
            "_view_module": "@jupyter-widgets/controls",
            "_view_module_version": "1.5.0",
            "_view_name": "HTMLView",
            "description": "",
            "description_tooltip": null,
            "layout": "IPY_MODEL_4415123119aa47d0b15f42f143fe653a",
            "placeholder": "​",
            "style": "IPY_MODEL_a805a4b94a9e4186be59ae8bf7c00482",
            "value": " 0/3 [00:00&lt;?, ?it/s]"
          }
        },
        "3a54dcaae2ae441b90e86f0a9f112e94": {
          "model_module": "@jupyter-widgets/base",
          "model_name": "LayoutModel",
          "model_module_version": "1.2.0",
          "state": {
            "_model_module": "@jupyter-widgets/base",
            "_model_module_version": "1.2.0",
            "_model_name": "LayoutModel",
            "_view_count": null,
            "_view_module": "@jupyter-widgets/base",
            "_view_module_version": "1.2.0",
            "_view_name": "LayoutView",
            "align_content": null,
            "align_items": null,
            "align_self": null,
            "border": null,
            "bottom": null,
            "display": null,
            "flex": null,
            "flex_flow": null,
            "grid_area": null,
            "grid_auto_columns": null,
            "grid_auto_flow": null,
            "grid_auto_rows": null,
            "grid_column": null,
            "grid_gap": null,
            "grid_row": null,
            "grid_template_areas": null,
            "grid_template_columns": null,
            "grid_template_rows": null,
            "height": null,
            "justify_content": null,
            "justify_items": null,
            "left": null,
            "margin": null,
            "max_height": null,
            "max_width": null,
            "min_height": null,
            "min_width": null,
            "object_fit": null,
            "object_position": null,
            "order": null,
            "overflow": null,
            "overflow_x": null,
            "overflow_y": null,
            "padding": null,
            "right": null,
            "top": null,
            "visibility": "hidden",
            "width": null
          }
        },
        "985e2e27a112485c8a91c1ed2ac17b98": {
          "model_module": "@jupyter-widgets/base",
          "model_name": "LayoutModel",
          "model_module_version": "1.2.0",
          "state": {
            "_model_module": "@jupyter-widgets/base",
            "_model_module_version": "1.2.0",
            "_model_name": "LayoutModel",
            "_view_count": null,
            "_view_module": "@jupyter-widgets/base",
            "_view_module_version": "1.2.0",
            "_view_name": "LayoutView",
            "align_content": null,
            "align_items": null,
            "align_self": null,
            "border": null,
            "bottom": null,
            "display": null,
            "flex": null,
            "flex_flow": null,
            "grid_area": null,
            "grid_auto_columns": null,
            "grid_auto_flow": null,
            "grid_auto_rows": null,
            "grid_column": null,
            "grid_gap": null,
            "grid_row": null,
            "grid_template_areas": null,
            "grid_template_columns": null,
            "grid_template_rows": null,
            "height": null,
            "justify_content": null,
            "justify_items": null,
            "left": null,
            "margin": null,
            "max_height": null,
            "max_width": null,
            "min_height": null,
            "min_width": null,
            "object_fit": null,
            "object_position": null,
            "order": null,
            "overflow": null,
            "overflow_x": null,
            "overflow_y": null,
            "padding": null,
            "right": null,
            "top": null,
            "visibility": null,
            "width": null
          }
        },
        "675c928dabf24557be818f57c07ad349": {
          "model_module": "@jupyter-widgets/controls",
          "model_name": "DescriptionStyleModel",
          "model_module_version": "1.5.0",
          "state": {
            "_model_module": "@jupyter-widgets/controls",
            "_model_module_version": "1.5.0",
            "_model_name": "DescriptionStyleModel",
            "_view_count": null,
            "_view_module": "@jupyter-widgets/base",
            "_view_module_version": "1.2.0",
            "_view_name": "StyleView",
            "description_width": ""
          }
        },
        "ad88414445bc4e9e881a86e71cebbee1": {
          "model_module": "@jupyter-widgets/base",
          "model_name": "LayoutModel",
          "model_module_version": "1.2.0",
          "state": {
            "_model_module": "@jupyter-widgets/base",
            "_model_module_version": "1.2.0",
            "_model_name": "LayoutModel",
            "_view_count": null,
            "_view_module": "@jupyter-widgets/base",
            "_view_module_version": "1.2.0",
            "_view_name": "LayoutView",
            "align_content": null,
            "align_items": null,
            "align_self": null,
            "border": null,
            "bottom": null,
            "display": null,
            "flex": null,
            "flex_flow": null,
            "grid_area": null,
            "grid_auto_columns": null,
            "grid_auto_flow": null,
            "grid_auto_rows": null,
            "grid_column": null,
            "grid_gap": null,
            "grid_row": null,
            "grid_template_areas": null,
            "grid_template_columns": null,
            "grid_template_rows": null,
            "height": null,
            "justify_content": null,
            "justify_items": null,
            "left": null,
            "margin": null,
            "max_height": null,
            "max_width": null,
            "min_height": null,
            "min_width": null,
            "object_fit": null,
            "object_position": null,
            "order": null,
            "overflow": null,
            "overflow_x": null,
            "overflow_y": null,
            "padding": null,
            "right": null,
            "top": null,
            "visibility": null,
            "width": null
          }
        },
        "645d91c4157840699d2c83593ea10c23": {
          "model_module": "@jupyter-widgets/controls",
          "model_name": "ProgressStyleModel",
          "model_module_version": "1.5.0",
          "state": {
            "_model_module": "@jupyter-widgets/controls",
            "_model_module_version": "1.5.0",
            "_model_name": "ProgressStyleModel",
            "_view_count": null,
            "_view_module": "@jupyter-widgets/base",
            "_view_module_version": "1.2.0",
            "_view_name": "StyleView",
            "bar_color": null,
            "description_width": ""
          }
        },
        "4415123119aa47d0b15f42f143fe653a": {
          "model_module": "@jupyter-widgets/base",
          "model_name": "LayoutModel",
          "model_module_version": "1.2.0",
          "state": {
            "_model_module": "@jupyter-widgets/base",
            "_model_module_version": "1.2.0",
            "_model_name": "LayoutModel",
            "_view_count": null,
            "_view_module": "@jupyter-widgets/base",
            "_view_module_version": "1.2.0",
            "_view_name": "LayoutView",
            "align_content": null,
            "align_items": null,
            "align_self": null,
            "border": null,
            "bottom": null,
            "display": null,
            "flex": null,
            "flex_flow": null,
            "grid_area": null,
            "grid_auto_columns": null,
            "grid_auto_flow": null,
            "grid_auto_rows": null,
            "grid_column": null,
            "grid_gap": null,
            "grid_row": null,
            "grid_template_areas": null,
            "grid_template_columns": null,
            "grid_template_rows": null,
            "height": null,
            "justify_content": null,
            "justify_items": null,
            "left": null,
            "margin": null,
            "max_height": null,
            "max_width": null,
            "min_height": null,
            "min_width": null,
            "object_fit": null,
            "object_position": null,
            "order": null,
            "overflow": null,
            "overflow_x": null,
            "overflow_y": null,
            "padding": null,
            "right": null,
            "top": null,
            "visibility": null,
            "width": null
          }
        },
        "a805a4b94a9e4186be59ae8bf7c00482": {
          "model_module": "@jupyter-widgets/controls",
          "model_name": "DescriptionStyleModel",
          "model_module_version": "1.5.0",
          "state": {
            "_model_module": "@jupyter-widgets/controls",
            "_model_module_version": "1.5.0",
            "_model_name": "DescriptionStyleModel",
            "_view_count": null,
            "_view_module": "@jupyter-widgets/base",
            "_view_module_version": "1.2.0",
            "_view_name": "StyleView",
            "description_width": ""
          }
        }
      }
    }
  },
  "nbformat": 4,
  "nbformat_minor": 0
}